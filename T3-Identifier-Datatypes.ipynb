{
 "cells": [
  {
   "cell_type": "code",
   "execution_count": 1,
   "id": "48efd084-f91a-40d3-86d4-3762b3023fc2",
   "metadata": {},
   "outputs": [],
   "source": [
    "import sys \n",
    "import keyword \n",
    "import operator \n",
    "from datetime import datetime \n",
    "import os"
   ]
  },
  {
   "cell_type": "code",
   "execution_count": 3,
   "id": "197f0f5d-4273-430f-ae46-97fddfcd7457",
   "metadata": {},
   "outputs": [
    {
     "name": "stdout",
     "output_type": "stream",
     "text": [
      "['False', 'None', 'True', 'and', 'as', 'assert', 'async', 'await', 'break', 'class', 'continue', 'def', 'del', 'elif', 'else', 'except', 'finally', 'for', 'from', 'global', 'if', 'import', 'in', 'is', 'lambda', 'nonlocal', 'not', 'or', 'pass', 'raise', 'return', 'try', 'while', 'with', 'yield']\n"
     ]
    }
   ],
   "source": [
    "print(keyword.kwlist) #lists all python key words"
   ]
  },
  {
   "cell_type": "code",
   "execution_count": 7,
   "id": "ca570caf-4cd7-4da3-92a9-b09cc7b6a183",
   "metadata": {},
   "outputs": [
    {
     "name": "stdout",
     "output_type": "stream",
     "text": [
      "35\n"
     ]
    }
   ],
   "source": [
    "print(len(keyword.kwlist))"
   ]
  },
  {
   "cell_type": "code",
   "execution_count": 9,
   "id": "a0d6443e-eb25-40d0-b560-cf7a5367253f",
   "metadata": {},
   "outputs": [
    {
     "ename": "SyntaxError",
     "evalue": "invalid decimal literal (1521661254.py, line 1)",
     "output_type": "error",
     "traceback": [
      "\u001b[1;36m  Cell \u001b[1;32mIn[9], line 1\u001b[1;36m\u001b[0m\n\u001b[1;33m    1var=10\u001b[0m\n\u001b[1;37m    ^\u001b[0m\n\u001b[1;31mSyntaxError\u001b[0m\u001b[1;31m:\u001b[0m invalid decimal literal\n"
     ]
    }
   ],
   "source": [
    "1var=10"
   ]
  },
  {
   "cell_type": "code",
   "execution_count": 11,
   "id": "08fa170f-5376-471b-b8f9-7a1ca68df5bd",
   "metadata": {},
   "outputs": [
    {
     "ename": "NameError",
     "evalue": "name 'val2' is not defined",
     "output_type": "error",
     "traceback": [
      "\u001b[1;31m---------------------------------------------------------------------------\u001b[0m",
      "\u001b[1;31mNameError\u001b[0m                                 Traceback (most recent call last)",
      "Cell \u001b[1;32mIn[11], line 1\u001b[0m\n\u001b[1;32m----> 1\u001b[0m val2\u001b[38;5;241m@\u001b[39m\u001b[38;5;241m=\u001b[39m\u001b[38;5;241m25\u001b[39m\n",
      "\u001b[1;31mNameError\u001b[0m: name 'val2' is not defined"
     ]
    }
   ],
   "source": [
    "val2@=25"
   ]
  },
  {
   "cell_type": "code",
   "execution_count": 13,
   "id": "c7684398-e476-43be-bc3a-f3d9d605c858",
   "metadata": {},
   "outputs": [
    {
     "ename": "SyntaxError",
     "evalue": "invalid syntax (3043145148.py, line 1)",
     "output_type": "error",
     "traceback": [
      "\u001b[1;36m  Cell \u001b[1;32mIn[13], line 1\u001b[1;36m\u001b[0m\n\u001b[1;33m    import =125\u001b[0m\n\u001b[1;37m           ^\u001b[0m\n\u001b[1;31mSyntaxError\u001b[0m\u001b[1;31m:\u001b[0m invalid syntax\n"
     ]
    }
   ],
   "source": [
    "import =125"
   ]
  },
  {
   "cell_type": "code",
   "execution_count": 15,
   "id": "5b7612d9-9b6f-4613-9aa9-730ea9955291",
   "metadata": {},
   "outputs": [],
   "source": [
    "\"\"\" \n",
    "Correct way of defining an identifier \n",
    "(Identifiers can be a combination of letters in lowercase (a to z) or uppercase \n",
    "\"\"\"\n",
    "val2=10\n",
    "val_=20"
   ]
  },
  {
   "cell_type": "markdown",
   "id": "8ce364d6-f860-4f8d-92b6-3dabdd0b3b36",
   "metadata": {},
   "source": [
    "Comments in Python"
   ]
  },
  {
   "cell_type": "code",
   "execution_count": 18,
   "id": "b0ab5171-e08a-4065-b407-3352aaa8c091",
   "metadata": {},
   "outputs": [
    {
     "name": "stdout",
     "output_type": "stream",
     "text": [
      "10\n"
     ]
    }
   ],
   "source": [
    "#Single line comment starts with #\n",
    "print(val2)"
   ]
  },
  {
   "cell_type": "code",
   "execution_count": 20,
   "id": "9481717b-ac61-4f31-b043-c607495ee261",
   "metadata": {},
   "outputs": [
    {
     "name": "stdout",
     "output_type": "stream",
     "text": [
      "20\n"
     ]
    }
   ],
   "source": [
    "'''Multi line comment\n",
    "  sarts with three single/double quotes and ends with the same'''\n",
    "print(val_)"
   ]
  },
  {
   "cell_type": "code",
   "execution_count": 24,
   "id": "e9257d14-4990-482c-98cf-b3272f287c3b",
   "metadata": {},
   "outputs": [
    {
     "name": "stdout",
     "output_type": "stream",
     "text": [
      "sandya\n",
      "vani\n"
     ]
    }
   ],
   "source": [
    "\"\"\" Multi line comment\n",
    "starts with three single /double quotes and ends with the same \"\"\"\n",
    "print(\"\"\"sandya\n",
    "vani\"\"\")\n",
    "\n",
    "\n",
    "\n"
   ]
  },
  {
   "cell_type": "markdown",
   "id": "4659444e-501c-4c1d-b699-b5d8877e751a",
   "metadata": {},
   "source": [
    "Statements"
   ]
  },
  {
   "cell_type": "code",
   "execution_count": 31,
   "id": "a667a678-e90f-4015-a9f4-0165505bb8e5",
   "metadata": {},
   "outputs": [
    {
     "data": {
      "text/plain": [
       "(20, int, '0x7ffa6e582c18')"
      ]
     },
     "execution_count": 31,
     "metadata": {},
     "output_type": "execute_result"
    }
   ],
   "source": [
    "p=20\n",
    "q=20\n",
    "r=p\n",
    "p,type(p),hex(id(p))"
   ]
  },
  {
   "cell_type": "code",
   "execution_count": 33,
   "id": "ede109a6-6c4d-46db-959f-89c4af9aa29a",
   "metadata": {},
   "outputs": [
    {
     "data": {
      "text/plain": [
       "(20, int, '0x7ffa6e582c18')"
      ]
     },
     "execution_count": 33,
     "metadata": {},
     "output_type": "execute_result"
    }
   ],
   "source": [
    "q, type(q), hex(id(q))"
   ]
  },
  {
   "cell_type": "code",
   "execution_count": 35,
   "id": "5ecb0df9-cce7-4ecc-bf07-7638e2bffd6a",
   "metadata": {},
   "outputs": [
    {
     "data": {
      "text/plain": [
       "(20, int, '0x7ffa6e582c18')"
      ]
     },
     "execution_count": 35,
     "metadata": {},
     "output_type": "execute_result"
    }
   ],
   "source": [
    "r,type(r), hex(id(r))"
   ]
  },
  {
   "cell_type": "code",
   "execution_count": 37,
   "id": "9d5bd3c7-c364-40c1-bf64-7903d4c465d0",
   "metadata": {},
   "outputs": [
    {
     "data": {
      "text/plain": [
       "30"
      ]
     },
     "execution_count": 37,
     "metadata": {},
     "output_type": "execute_result"
    }
   ],
   "source": [
    "p=p+10\n",
    "p"
   ]
  },
  {
   "cell_type": "markdown",
   "id": "72495d05-0e45-4739-a2f5-de10d1c8a1f9",
   "metadata": {},
   "source": [
    "Variable Assignment"
   ]
  },
  {
   "cell_type": "code",
   "execution_count": 40,
   "id": "581d6160-43ad-4af6-8fff-739a88d24f59",
   "metadata": {},
   "outputs": [
    {
     "name": "stdout",
     "output_type": "stream",
     "text": [
      "10\n",
      "2.34\n",
      "Python Practice\n"
     ]
    }
   ],
   "source": [
    "intvar=10\n",
    "floatvar=2.34\n",
    "stringvar=\"Python Practice\"\n",
    "\n",
    "print(intvar)\n",
    "print(floatvar)\n",
    "print(stringvar)"
   ]
  },
  {
   "cell_type": "code",
   "execution_count": 45,
   "id": "5b4be478-d1b3-4f63-a030-e4c9668d1ea5",
   "metadata": {},
   "outputs": [
    {
     "name": "stdout",
     "output_type": "stream",
     "text": [
      "20\n",
      "3.45\n",
      "Python Practice\n"
     ]
    }
   ],
   "source": [
    "intvar,floatvar,stringvar=20,3.45,\"Python Practice\"\n",
    "\n",
    "print(intvar)\n",
    "print(floatvar)\n",
    "print(stringvar)"
   ]
  },
  {
   "cell_type": "code",
   "execution_count": 49,
   "id": "f3083feb-bfa7-4e19-899d-6e9334ba4659",
   "metadata": {},
   "outputs": [
    {
     "name": "stdout",
     "output_type": "stream",
     "text": [
      "44 44 44 44\n"
     ]
    }
   ],
   "source": [
    "p1=p2=p3=p4=44\n",
    "print(p1, p2, p3, p4)"
   ]
  },
  {
   "cell_type": "markdown",
   "id": "bb791759-4eba-4e29-b00c-3e26bf0246f8",
   "metadata": {},
   "source": [
    "Data Types"
   ]
  },
  {
   "cell_type": "markdown",
   "id": "d618ade6-5550-4588-841f-15af2937b57b",
   "metadata": {},
   "source": [
    "Numeric/Integer"
   ]
  },
  {
   "cell_type": "code",
   "execution_count": 53,
   "id": "47fbd895-ae68-40bb-8c97-8fbd76bee758",
   "metadata": {},
   "outputs": [
    {
     "name": "stdout",
     "output_type": "stream",
     "text": [
      "10\n",
      "<class 'int'>\n",
      "28\n",
      "10 is Integer  True\n"
     ]
    }
   ],
   "source": [
    "val1=10\n",
    "print(val1)\n",
    "print(type(val1))\n",
    "print(sys.getsizeof(val1))\n",
    "print(val1, \"is Integer \" , isinstance(val1, int))\n"
   ]
  },
  {
   "cell_type": "code",
   "execution_count": 87,
   "id": "1b96d7a0-7bbb-4791-b396-478c208791b2",
   "metadata": {},
   "outputs": [
    {
     "name": "stdout",
     "output_type": "stream",
     "text": [
      "93.4\n",
      "<class 'float'>\n",
      "24\n",
      "93.4 is float  True\n"
     ]
    }
   ],
   "source": [
    "val2=93.4\n",
    "print(val2)\n",
    "print(type(val2))\n",
    "print(sys.getsizeof(val2))\n",
    "print(val2, \"is float \", isinstance(val2,float))"
   ]
  },
  {
   "cell_type": "code",
   "execution_count": 83,
   "id": "d648ef3c-63b0-448a-972f-5977464ce22d",
   "metadata": {},
   "outputs": [
    {
     "name": "stdout",
     "output_type": "stream",
     "text": [
      "(4+5j)\n",
      "<class 'complex'>\n",
      "32\n",
      "(4+5j) is complex True\n"
     ]
    }
   ],
   "source": [
    "val3=4+5j\n",
    "print(val3)\n",
    "print(type(val3))\n",
    "print(sys.getsizeof(val3))\n",
    "print(val3, \"is complex\", isinstance(val3, complex))"
   ]
  },
  {
   "cell_type": "code",
   "execution_count": 89,
   "id": "589991eb-6727-4f5a-80b7-76f3cc314ced",
   "metadata": {},
   "outputs": [
    {
     "data": {
      "text/plain": [
       "28"
      ]
     },
     "execution_count": 89,
     "metadata": {},
     "output_type": "execute_result"
    }
   ],
   "source": [
    "sys.getsizeof(int())"
   ]
  },
  {
   "cell_type": "code",
   "execution_count": 91,
   "id": "7281bbf8-9f64-4235-979e-dd81db2f62f2",
   "metadata": {},
   "outputs": [
    {
     "data": {
      "text/plain": [
       "24"
      ]
     },
     "execution_count": 91,
     "metadata": {},
     "output_type": "execute_result"
    }
   ],
   "source": [
    "sys.getsizeof(float())"
   ]
  },
  {
   "cell_type": "code",
   "execution_count": 93,
   "id": "33e8f015-a694-4cc8-b984-626c9f1a7041",
   "metadata": {},
   "outputs": [
    {
     "data": {
      "text/plain": [
       "32"
      ]
     },
     "execution_count": 93,
     "metadata": {},
     "output_type": "execute_result"
    }
   ],
   "source": [
    "sys.getsizeof(complex())"
   ]
  },
  {
   "cell_type": "markdown",
   "id": "58afe686-a5fa-4409-9d1c-0f98fbe1c9a1",
   "metadata": {},
   "source": [
    "Boolean"
   ]
  },
  {
   "cell_type": "code",
   "execution_count": 98,
   "id": "211d6e89-2915-458f-8040-5d303727ba9c",
   "metadata": {},
   "outputs": [
    {
     "name": "stdout",
     "output_type": "stream",
     "text": [
      "<class 'bool'>\n",
      "<class 'bool'>\n",
      "28\n"
     ]
    }
   ],
   "source": [
    "bool1=True\n",
    "bool2=False\n",
    "print(type(bool1))\n",
    "print(type(bool2))\n",
    "print(sys.getsizeof(bool1))\n"
   ]
  },
  {
   "cell_type": "code",
   "execution_count": 102,
   "id": "552b7fe5-987f-4454-ae23-b94bd38812a6",
   "metadata": {},
   "outputs": [
    {
     "data": {
      "text/plain": [
       "True"
      ]
     },
     "execution_count": 102,
     "metadata": {},
     "output_type": "execute_result"
    }
   ],
   "source": [
    "isinstance(bool1,bool)"
   ]
  },
  {
   "cell_type": "code",
   "execution_count": 104,
   "id": "a8edf932-d280-4e08-bf31-655b9de5743e",
   "metadata": {},
   "outputs": [
    {
     "data": {
      "text/plain": [
       "False"
      ]
     },
     "execution_count": 104,
     "metadata": {},
     "output_type": "execute_result"
    }
   ],
   "source": [
    "bool(0)"
   ]
  },
  {
   "cell_type": "code",
   "execution_count": 106,
   "id": "d6576a6b-f8e6-4690-9040-1db2fa2faac9",
   "metadata": {},
   "outputs": [
    {
     "data": {
      "text/plain": [
       "True"
      ]
     },
     "execution_count": 106,
     "metadata": {},
     "output_type": "execute_result"
    }
   ],
   "source": [
    "bool(1)"
   ]
  },
  {
   "cell_type": "code",
   "execution_count": 108,
   "id": "cdcdabc4-bf84-41d7-a488-3d454cb6d691",
   "metadata": {},
   "outputs": [
    {
     "data": {
      "text/plain": [
       "False"
      ]
     },
     "execution_count": 108,
     "metadata": {},
     "output_type": "execute_result"
    }
   ],
   "source": [
    "bool(None)"
   ]
  },
  {
   "cell_type": "code",
   "execution_count": 110,
   "id": "d18af01f-15f5-422e-a946-fe1da88cc84a",
   "metadata": {},
   "outputs": [
    {
     "data": {
      "text/plain": [
       "True"
      ]
     },
     "execution_count": 110,
     "metadata": {},
     "output_type": "execute_result"
    }
   ],
   "source": [
    "bool(True)"
   ]
  },
  {
   "cell_type": "code",
   "execution_count": 113,
   "id": "226ac089-fbe9-4139-bbf4-96317adcd962",
   "metadata": {},
   "outputs": [
    {
     "data": {
      "text/plain": [
       "False"
      ]
     },
     "execution_count": 113,
     "metadata": {},
     "output_type": "execute_result"
    }
   ],
   "source": [
    "bool(False)"
   ]
  },
  {
   "cell_type": "markdown",
   "id": "5c8ad5cc-9939-4b43-a37e-16e2bd4e9eb2",
   "metadata": {},
   "source": [
    "Strings"
   ]
  },
  {
   "cell_type": "code",
   "execution_count": 123,
   "id": "38fb0580-ead0-47e0-b3f1-98174015f950",
   "metadata": {},
   "outputs": [
    {
     "name": "stdout",
     "output_type": "stream",
     "text": [
      "HELLO PYTHON\n"
     ]
    }
   ],
   "source": [
    "str1= \"HELLO PYTHON\"\n",
    "print(str1)"
   ]
  },
  {
   "cell_type": "code",
   "execution_count": 125,
   "id": "73d9ee43-09f5-4a97-a9fe-64ddf5ebfee3",
   "metadata": {},
   "outputs": [
    {
     "name": "stdout",
     "output_type": "stream",
     "text": [
      "Hello World\n"
     ]
    }
   ],
   "source": [
    "mystr='Hello World'\n",
    "print(mystr)"
   ]
  },
  {
   "cell_type": "code",
   "execution_count": 127,
   "id": "161998a6-ac38-4032-9c32-c656f74f8e46",
   "metadata": {},
   "outputs": [
    {
     "name": "stdout",
     "output_type": "stream",
     "text": [
      "Hello World\n"
     ]
    }
   ],
   "source": [
    "mystr=\"Hello World\"\n",
    "print(mystr)"
   ]
  },
  {
   "cell_type": "code",
   "execution_count": 129,
   "id": "353fb342-22ed-4113-b2ee-465b9d55a270",
   "metadata": {},
   "outputs": [
    {
     "name": "stdout",
     "output_type": "stream",
     "text": [
      "Hello \n",
      "world\n"
     ]
    }
   ],
   "source": [
    "mystr='''Hello \n",
    "world'''\n",
    "print(mystr)"
   ]
  },
  {
   "cell_type": "code",
   "execution_count": 131,
   "id": "5f3158fb-572d-49b2-90d0-dbbed5a771dd",
   "metadata": {},
   "outputs": [
    {
     "name": "stdout",
     "output_type": "stream",
     "text": [
      "Helo\n",
      "world\n"
     ]
    }
   ],
   "source": [
    "mystr=\"\"\"Helo\n",
    "world\"\"\"\n",
    "print(mystr)"
   ]
  },
  {
   "cell_type": "code",
   "execution_count": 135,
   "id": "a92526ad-fe47-454d-bb96-2d16402ba20b",
   "metadata": {},
   "outputs": [
    {
     "name": "stdout",
     "output_type": "stream",
     "text": [
      "Happy Monday EveryOne \n"
     ]
    }
   ],
   "source": [
    "mystr= ('Happy '\n",
    "        'Monday '\n",
    "        'EveryOne '\n",
    "       )\n",
    "print(mystr)"
   ]
  },
  {
   "cell_type": "code",
   "execution_count": 143,
   "id": "6cba26ad-6e77-4769-9515-b50ff6297577",
   "metadata": {},
   "outputs": [
    {
     "name": "stdout",
     "output_type": "stream",
     "text": [
      "wohoo wohoo wohoo wohoo wohoo \n"
     ]
    }
   ],
   "source": [
    "mystr2='wohoo '\n",
    "mystr2=mystr2*5\n",
    "print(mystr2)"
   ]
  },
  {
   "cell_type": "code",
   "execution_count": 145,
   "id": "387a4ee9-9aa5-4c5c-b038-ec7e334031bc",
   "metadata": {},
   "outputs": [
    {
     "data": {
      "text/plain": [
       "30"
      ]
     },
     "execution_count": 145,
     "metadata": {},
     "output_type": "execute_result"
    }
   ],
   "source": [
    "len(mystr2)"
   ]
  },
  {
   "cell_type": "markdown",
   "id": "9aca53e8-6a03-40ce-85b0-fc73d7feb88a",
   "metadata": {},
   "source": [
    "String Indexing"
   ]
  },
  {
   "cell_type": "code",
   "execution_count": 148,
   "id": "33046820-0ab6-4a37-bf50-b3920960ddd0",
   "metadata": {},
   "outputs": [
    {
     "data": {
      "text/plain": [
       "'HELLO PYTHON'"
      ]
     },
     "execution_count": 148,
     "metadata": {},
     "output_type": "execute_result"
    }
   ],
   "source": [
    "str1"
   ]
  },
  {
   "cell_type": "code",
   "execution_count": 150,
   "id": "c83ba46c-d9aa-44df-9e3a-f59b6e2ac420",
   "metadata": {},
   "outputs": [
    {
     "data": {
      "text/plain": [
       "'H'"
      ]
     },
     "execution_count": 150,
     "metadata": {},
     "output_type": "execute_result"
    }
   ],
   "source": [
    "str1[0]"
   ]
  },
  {
   "cell_type": "code",
   "execution_count": 154,
   "id": "826c4568-5efd-4b5c-aa2d-2969601932d4",
   "metadata": {},
   "outputs": [
    {
     "data": {
      "text/plain": [
       "'N'"
      ]
     },
     "execution_count": 154,
     "metadata": {},
     "output_type": "execute_result"
    }
   ],
   "source": [
    "str1[len(str1)-1]"
   ]
  },
  {
   "cell_type": "code",
   "execution_count": 156,
   "id": "9c649f83-80ad-4f93-a13d-3102ac54788f",
   "metadata": {},
   "outputs": [
    {
     "data": {
      "text/plain": [
       "'N'"
      ]
     },
     "execution_count": 156,
     "metadata": {},
     "output_type": "execute_result"
    }
   ],
   "source": [
    "str1[-1]"
   ]
  },
  {
   "cell_type": "code",
   "execution_count": 158,
   "id": "c5cf8f12-2cde-4c8e-a44a-76e8a6472c88",
   "metadata": {},
   "outputs": [
    {
     "data": {
      "text/plain": [
       "'P'"
      ]
     },
     "execution_count": 158,
     "metadata": {},
     "output_type": "execute_result"
    }
   ],
   "source": [
    "str1[6]"
   ]
  },
  {
   "cell_type": "code",
   "execution_count": 160,
   "id": "ce5db52c-c1c6-4ac5-a45e-af2046972a0d",
   "metadata": {},
   "outputs": [
    {
     "data": {
      "text/plain": [
       "' '"
      ]
     },
     "execution_count": 160,
     "metadata": {},
     "output_type": "execute_result"
    }
   ],
   "source": [
    "str1[5]"
   ]
  },
  {
   "cell_type": "markdown",
   "id": "55285f26-8baa-4c60-b210-34bf0f9e599d",
   "metadata": {},
   "source": [
    "String Slicing"
   ]
  },
  {
   "cell_type": "code",
   "execution_count": 163,
   "id": "33529edf-0e50-4a8e-bd36-352309e7173d",
   "metadata": {},
   "outputs": [
    {
     "data": {
      "text/plain": [
       "'HELLO'"
      ]
     },
     "execution_count": 163,
     "metadata": {},
     "output_type": "execute_result"
    }
   ],
   "source": [
    "str1[0:5]"
   ]
  },
  {
   "cell_type": "code",
   "execution_count": 167,
   "id": "c8eedfd2-4923-4555-b269-1a25867aaeb4",
   "metadata": {},
   "outputs": [
    {
     "data": {
      "text/plain": [
       "'PYTHON'"
      ]
     },
     "execution_count": 167,
     "metadata": {},
     "output_type": "execute_result"
    }
   ],
   "source": [
    "str1[6:]"
   ]
  },
  {
   "cell_type": "code",
   "execution_count": 171,
   "id": "cda6aee8-fb3c-4bb0-b9d9-cc4be8df686f",
   "metadata": {},
   "outputs": [
    {
     "data": {
      "text/plain": [
       "'THON'"
      ]
     },
     "execution_count": 171,
     "metadata": {},
     "output_type": "execute_result"
    }
   ],
   "source": [
    "str1[-4:]"
   ]
  },
  {
   "cell_type": "code",
   "execution_count": 173,
   "id": "2d183f2b-c9f1-4794-b21c-3a0457d876db",
   "metadata": {},
   "outputs": [
    {
     "data": {
      "text/plain": [
       "'PYTHON'"
      ]
     },
     "execution_count": 173,
     "metadata": {},
     "output_type": "execute_result"
    }
   ],
   "source": [
    "str1[-6:]"
   ]
  },
  {
   "cell_type": "code",
   "execution_count": 175,
   "id": "f75413f6-75e1-42f6-9461-1a8a364847d3",
   "metadata": {},
   "outputs": [
    {
     "data": {
      "text/plain": [
       "'HELL'"
      ]
     },
     "execution_count": 175,
     "metadata": {},
     "output_type": "execute_result"
    }
   ],
   "source": [
    "str1[:4]"
   ]
  },
  {
   "cell_type": "code",
   "execution_count": 177,
   "id": "fda38177-0acf-4e0c-9aa3-7335f24f8df1",
   "metadata": {},
   "outputs": [
    {
     "data": {
      "text/plain": [
       "'HELLO '"
      ]
     },
     "execution_count": 177,
     "metadata": {},
     "output_type": "execute_result"
    }
   ],
   "source": [
    "str1[:6]"
   ]
  },
  {
   "cell_type": "markdown",
   "id": "dec09218-dae2-47ba-8425-78f5a3b4a279",
   "metadata": {},
   "source": [
    "Update & Delete String"
   ]
  },
  {
   "cell_type": "code",
   "execution_count": 180,
   "id": "0e7683b7-c174-412b-bc56-8b6975deab44",
   "metadata": {},
   "outputs": [
    {
     "data": {
      "text/plain": [
       "'HELLO PYTHON'"
      ]
     },
     "execution_count": 180,
     "metadata": {},
     "output_type": "execute_result"
    }
   ],
   "source": [
    "str1"
   ]
  },
  {
   "cell_type": "code",
   "execution_count": 184,
   "id": "348a7008-593d-453e-beaf-4a308d8a7f33",
   "metadata": {},
   "outputs": [
    {
     "ename": "TypeError",
     "evalue": "'str' object does not support item assignment",
     "output_type": "error",
     "traceback": [
      "\u001b[1;31m---------------------------------------------------------------------------\u001b[0m",
      "\u001b[1;31mTypeError\u001b[0m                                 Traceback (most recent call last)",
      "Cell \u001b[1;32mIn[184], line 1\u001b[0m\n\u001b[1;32m----> 1\u001b[0m str1[\u001b[38;5;241m1\u001b[39m:\u001b[38;5;241m5\u001b[39m]\u001b[38;5;241m=\u001b[39m\u001b[38;5;124m'\u001b[39m\u001b[38;5;124mollo\u001b[39m\u001b[38;5;124m'\u001b[39m\n",
      "\u001b[1;31mTypeError\u001b[0m: 'str' object does not support item assignment"
     ]
    }
   ],
   "source": [
    "str1[1:5]='ollo'"
   ]
  },
  {
   "cell_type": "code",
   "execution_count": 186,
   "id": "11dd4fc3-e03b-4d68-bd2e-8ec58968bb94",
   "metadata": {},
   "outputs": [],
   "source": [
    "del str1"
   ]
  },
  {
   "cell_type": "code",
   "execution_count": 188,
   "id": "4218a85d-3d39-4bef-ad68-0b3027dd1ecc",
   "metadata": {},
   "outputs": [
    {
     "ename": "NameError",
     "evalue": "name 'str1' is not defined",
     "output_type": "error",
     "traceback": [
      "\u001b[1;31m---------------------------------------------------------------------------\u001b[0m",
      "\u001b[1;31mNameError\u001b[0m                                 Traceback (most recent call last)",
      "Cell \u001b[1;32mIn[188], line 1\u001b[0m\n\u001b[1;32m----> 1\u001b[0m \u001b[38;5;28mprint\u001b[39m(str1)\n",
      "\u001b[1;31mNameError\u001b[0m: name 'str1' is not defined"
     ]
    }
   ],
   "source": [
    "print(str1)"
   ]
  },
  {
   "cell_type": "code",
   "execution_count": 193,
   "id": "1db8dc86-804c-41d2-884d-fe643dfa440b",
   "metadata": {},
   "outputs": [
    {
     "name": "stdout",
     "output_type": "stream",
     "text": [
      "Hello Sandya\n"
     ]
    }
   ],
   "source": [
    "s1=\"Hello \"\n",
    "s2=\"Sandya\"\n",
    "s3=s1+s2\n",
    "print(s3)\n"
   ]
  },
  {
   "cell_type": "code",
   "execution_count": 195,
   "id": "e4d87435-b6c7-44a0-91c1-e8f0726055f1",
   "metadata": {},
   "outputs": [
    {
     "ename": "TypeError",
     "evalue": "can only concatenate str (not \"int\") to str",
     "output_type": "error",
     "traceback": [
      "\u001b[1;31m---------------------------------------------------------------------------\u001b[0m",
      "\u001b[1;31mTypeError\u001b[0m                                 Traceback (most recent call last)",
      "Cell \u001b[1;32mIn[195], line 1\u001b[0m\n\u001b[1;32m----> 1\u001b[0m s3\u001b[38;5;241m=\u001b[39ms3\u001b[38;5;241m+\u001b[39m\u001b[38;5;241m5\u001b[39m\n",
      "\u001b[1;31mTypeError\u001b[0m: can only concatenate str (not \"int\") to str"
     ]
    }
   ],
   "source": [
    "s3=s3+5"
   ]
  },
  {
   "cell_type": "code",
   "execution_count": null,
   "id": "02f6be1b-1fcb-4427-8d16-626bbc4d4f36",
   "metadata": {},
   "outputs": [],
   "source": []
  },
  {
   "cell_type": "code",
   "execution_count": null,
   "id": "bb17a343-15cb-40f8-8b75-d9c88929f350",
   "metadata": {},
   "outputs": [],
   "source": []
  },
  {
   "cell_type": "code",
   "execution_count": null,
   "id": "8d86f295-8690-4275-9fc7-36b9bc606384",
   "metadata": {},
   "outputs": [],
   "source": []
  },
  {
   "cell_type": "code",
   "execution_count": null,
   "id": "70b7e82e-d194-46a5-862d-f750262c555a",
   "metadata": {},
   "outputs": [],
   "source": []
  },
  {
   "cell_type": "code",
   "execution_count": null,
   "id": "7dff9d6f-d146-40af-b912-bef9ee2eb921",
   "metadata": {},
   "outputs": [],
   "source": []
  },
  {
   "cell_type": "code",
   "execution_count": null,
   "id": "cc08b682-8e81-4a93-8c15-178945111bf2",
   "metadata": {},
   "outputs": [],
   "source": []
  },
  {
   "cell_type": "code",
   "execution_count": null,
   "id": "265b28b1-e3b6-43af-9ca1-458726fc98d2",
   "metadata": {},
   "outputs": [],
   "source": []
  },
  {
   "cell_type": "code",
   "execution_count": null,
   "id": "9b19e222-4877-4c85-90df-abdf79a01c8a",
   "metadata": {},
   "outputs": [],
   "source": []
  },
  {
   "cell_type": "code",
   "execution_count": null,
   "id": "dca21909-e0c4-43bf-a994-d5c654d795ee",
   "metadata": {},
   "outputs": [],
   "source": []
  },
  {
   "cell_type": "code",
   "execution_count": null,
   "id": "f39b91ac-ff62-42e3-a11a-d72c2286a151",
   "metadata": {},
   "outputs": [],
   "source": []
  },
  {
   "cell_type": "code",
   "execution_count": null,
   "id": "be6e7067-5e2f-4ef6-a9d3-bf97a26bf99a",
   "metadata": {},
   "outputs": [],
   "source": []
  },
  {
   "cell_type": "code",
   "execution_count": null,
   "id": "a665a9ea-1746-4342-9a03-0e2fdb284773",
   "metadata": {},
   "outputs": [],
   "source": []
  },
  {
   "cell_type": "code",
   "execution_count": null,
   "id": "3885f63a-97a7-4da4-86ea-1290f6f60105",
   "metadata": {},
   "outputs": [],
   "source": []
  }
 ],
 "metadata": {
  "kernelspec": {
   "display_name": "Python [conda env:base] *",
   "language": "python",
   "name": "conda-base-py"
  },
  "language_info": {
   "codemirror_mode": {
    "name": "ipython",
    "version": 3
   },
   "file_extension": ".py",
   "mimetype": "text/x-python",
   "name": "python",
   "nbconvert_exporter": "python",
   "pygments_lexer": "ipython3",
   "version": "3.12.7"
  }
 },
 "nbformat": 4,
 "nbformat_minor": 5
}
