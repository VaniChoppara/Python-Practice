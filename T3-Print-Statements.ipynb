{
 "cells": [
  {
   "cell_type": "code",
   "execution_count": 1,
   "id": "eca7a6a2-c200-44b7-b122-556761279e47",
   "metadata": {},
   "outputs": [
    {
     "data": {
      "text/plain": [
       "20"
      ]
     },
     "execution_count": 1,
     "metadata": {},
     "output_type": "execute_result"
    }
   ],
   "source": [
    "a=10\n",
    "b=20\n",
    "a\n",
    "b"
   ]
  },
  {
   "cell_type": "code",
   "execution_count": 3,
   "id": "2ef8b40d-273e-4211-bc60-be7964702418",
   "metadata": {},
   "outputs": [
    {
     "name": "stdout",
     "output_type": "stream",
     "text": [
      "10\n",
      "20\n"
     ]
    }
   ],
   "source": [
    "print(a)\n",
    "print(b)"
   ]
  },
  {
   "cell_type": "code",
   "execution_count": 5,
   "id": "34c40b82-7fda-4465-9968-f7e0cde65255",
   "metadata": {},
   "outputs": [
    {
     "name": "stdout",
     "output_type": "stream",
     "text": [
      "10\n",
      "10 20\n",
      "python\n",
      "10 20 python\n"
     ]
    }
   ],
   "source": [
    "print(10)\n",
    "print(10,20)\n",
    "print('python')\n",
    "print(10,20,'python')\n"
   ]
  },
  {
   "cell_type": "code",
   "execution_count": 16,
   "id": "b2a1b323-a0d6-49fd-b8d4-40cc419f695e",
   "metadata": {},
   "outputs": [
    {
     "name": "stdout",
     "output_type": "stream",
     "text": [
      "50\n"
     ]
    }
   ],
   "source": [
    "num1=20\n",
    "num2=30\n",
    "sum=num1+num2\n",
    "print(sum)"
   ]
  },
  {
   "cell_type": "code",
   "execution_count": 14,
   "id": "d09f0188-5b98-4d93-979a-5c8897c30d38",
   "metadata": {},
   "outputs": [
    {
     "name": "stdout",
     "output_type": "stream",
     "text": [
      "The addition of num1:  20 and num2: 30 is add: 50\n"
     ]
    }
   ],
   "source": [
    "print(\"The addition of num1: \", num1 , \"and num2:\", num2, \"is add:\", sum)"
   ]
  },
  {
   "cell_type": "code",
   "execution_count": 23,
   "id": "394a9a0a-c277-4ab4-9667-a18ee44df39c",
   "metadata": {},
   "outputs": [
    {
     "name": "stdout",
     "output_type": "stream",
     "text": [
      "Hello My Name is Sanvik age is  11  and city is  Banglore\n"
     ]
    }
   ],
   "source": [
    "name='Sanvik'\n",
    "age=11\n",
    "city='Banglore'\n",
    "print(\"Hello My Name is\", name, \"age is \", age , ' and city is ', city)"
   ]
  },
  {
   "cell_type": "code",
   "execution_count": 25,
   "id": "2cc66f1e-f5bb-4af7-b3fd-35c65c070cdf",
   "metadata": {},
   "outputs": [
    {
     "name": "stdout",
     "output_type": "stream",
     "text": [
      "The addition of 20 and 30 is= 50\n"
     ]
    }
   ],
   "source": [
    "print('The addition of {} and {} is= {}'.format(num1,num2,add))"
   ]
  },
  {
   "cell_type": "code",
   "execution_count": 29,
   "id": "02ace14b-6191-4350-8c7d-33527eb3a483",
   "metadata": {},
   "outputs": [
    {
     "name": "stdout",
     "output_type": "stream",
     "text": [
      "hello my name is Sanvik, and i am 11 years old from Banglore \n"
     ]
    }
   ],
   "source": [
    "print('hello my name is {}, and i am {} years old from {} '.format(name,age,city)) "
   ]
  },
  {
   "cell_type": "code",
   "execution_count": 33,
   "id": "1b35b2f9-612f-45bd-a171-8c9b4c854850",
   "metadata": {},
   "outputs": [
    {
     "name": "stdout",
     "output_type": "stream",
     "text": [
      "The avrage of 20, 30, and 333 is= 127.66666666666667 or 127.67\n"
     ]
    }
   ],
   "source": [
    "num1=100 \n",
    "num2=25 \n",
    "num3=333 \n",
    "num1=20 \n",
    "num2=30 \n",
    "avg=(num1+num2+num3)/3 # or we can use avg=round(num1+num2+num3)/3,2) \n",
    "avg1=round((num1+num2+num3)/3,2) \n",
    "# The avrage of num1,num2,num3 is = avg \n",
    "print('The avrage of {}, {}, and {} is= {} or {}'.format(num1,num2,num3, \n",
    "avg,avg1)) # here we can use round(avg,2) also "
   ]
  },
  {
   "cell_type": "code",
   "execution_count": 40,
   "id": "55b2fe07-0e45-457a-9c13-5a1b8013cc8d",
   "metadata": {},
   "outputs": [
    {
     "name": "stdout",
     "output_type": "stream",
     "text": [
      "The addition of 20 and 30 is= 50\n"
     ]
    }
   ],
   "source": [
    "print(f'The addition of {num1} and {num2} is= {add}') "
   ]
  },
  {
   "cell_type": "code",
   "execution_count": 42,
   "id": "8f637638-f2b0-44c6-96f8-4750388f5d02",
   "metadata": {},
   "outputs": [
    {
     "name": "stdout",
     "output_type": "stream",
     "text": [
      "Hello my name is Sanvik , age is 11 and city is Banglore .\n"
     ]
    }
   ],
   "source": [
    "print(f'Hello my name is {name} , age is { age} and city is {city} .') "
   ]
  },
  {
   "cell_type": "code",
   "execution_count": 46,
   "id": "b2f0cd21-9b54-4005-be9e-15f73b207915",
   "metadata": {},
   "outputs": [
    {
     "name": "stdout",
     "output_type": "stream",
     "text": [
      "the average of num1 20 , num2 30 and num3 333 is 127.66666666666667 \n"
     ]
    }
   ],
   "source": [
    "print(f'the average of num1 {num1} , num2 {num2} and num3 {num3} is {avg} ')\n"
   ]
  },
  {
   "cell_type": "code",
   "execution_count": 48,
   "id": "ec697ea5-8bab-4716-8c5c-535811143bea",
   "metadata": {},
   "outputs": [
    {
     "name": "stdout",
     "output_type": "stream",
     "text": [
      "the addition of num1  20  and num2 30 is sum 50\n"
     ]
    }
   ],
   "source": [
    "print( \"the addition of num1 \", num1,' and num2', num2, 'is sum', sum)"
   ]
  },
  {
   "cell_type": "code",
   "execution_count": 58,
   "id": "890cea9b-3519-4518-b377-42ada611e08e",
   "metadata": {},
   "outputs": [
    {
     "name": "stdout",
     "output_type": "stream",
     "text": [
      "the addition of num1 20 and num2 30 is sum 50 \n"
     ]
    }
   ],
   "source": [
    "print( 'the addition of num1 {} and num2 {} is sum {} '.format(num1,num2,sum))  "
   ]
  },
  {
   "cell_type": "code",
   "execution_count": 62,
   "id": "e81c24ac-40f2-4990-b9ce-b4be3b2e817d",
   "metadata": {},
   "outputs": [
    {
     "name": "stdout",
     "output_type": "stream",
     "text": [
      "the addition of num1 20 and num2 30 is sum 50\n"
     ]
    }
   ],
   "source": [
    "print(f'the addition of num1 {num1} and num2 {num2} is sum {sum}')"
   ]
  },
  {
   "cell_type": "code",
   "execution_count": 64,
   "id": "fb067ea2-5fbe-43bb-bde3-912a384e6e1c",
   "metadata": {},
   "outputs": [
    {
     "name": "stdout",
     "output_type": "stream",
     "text": [
      "hello world good day\n"
     ]
    }
   ],
   "source": [
    "print('hello', end=' ') # 1st statement \n",
    "print('world good day') # 2nd statement \n"
   ]
  },
  {
   "cell_type": "code",
   "execution_count": 66,
   "id": "eccaaca3-4d41-489b-9996-8d755b4718c9",
   "metadata": {},
   "outputs": [
    {
     "name": "stdout",
     "output_type": "stream",
     "text": [
      "hello--->hai--->how are you\n"
     ]
    }
   ],
   "source": [
    "print('hello','hai','how are you',sep='--->') \n"
   ]
  },
  {
   "cell_type": "code",
   "execution_count": 68,
   "id": "4c8b6eba-1228-4057-a376-4c5ba84a9e2b",
   "metadata": {},
   "outputs": [
    {
     "name": "stdout",
     "output_type": "stream",
     "text": [
      "hello&hai&how are you\n"
     ]
    }
   ],
   "source": [
    "print('hello','hai','how are you',sep='&') \n"
   ]
  },
  {
   "cell_type": "code",
   "execution_count": 70,
   "id": "770f7602-0ad3-4a41-bf33-1cfdf17724b2",
   "metadata": {},
   "outputs": [
    {
     "name": "stdout",
     "output_type": "stream",
     "text": [
      "3 .\n"
     ]
    }
   ],
   "source": [
    "print(3,'.') # . is far from 3 so here we will use sep method "
   ]
  },
  {
   "cell_type": "code",
   "execution_count": 80,
   "id": "35947947-3cda-4369-97f5-ad312b29ab5d",
   "metadata": {},
   "outputs": [
    {
     "name": "stdout",
     "output_type": "stream",
     "text": [
      "3.\n"
     ]
    }
   ],
   "source": [
    "print(3, '.', sep='') #see now space setteld(also use to remove space B/W words)"
   ]
  },
  {
   "cell_type": "code",
   "execution_count": 88,
   "id": "50ec69fe-8b21-4637-88b9-e7dd3544c8b1",
   "metadata": {},
   "outputs": [
    {
     "name": "stdout",
     "output_type": "stream",
     "text": [
      "1 2 3.\n"
     ]
    }
   ],
   "source": [
    "print(1,2,end=\" \")\n",
    "print(3, '.', sep=\"\")"
   ]
  },
  {
   "cell_type": "code",
   "execution_count": null,
   "id": "838add08-129d-410a-8212-9afdcab09a54",
   "metadata": {},
   "outputs": [],
   "source": []
  },
  {
   "cell_type": "code",
   "execution_count": null,
   "id": "c29821e1-abc8-4f45-a11a-0c9bc6c06fcb",
   "metadata": {},
   "outputs": [],
   "source": [
    "\n"
   ]
  }
 ],
 "metadata": {
  "kernelspec": {
   "display_name": "Python [conda env:base] *",
   "language": "python",
   "name": "conda-base-py"
  },
  "language_info": {
   "codemirror_mode": {
    "name": "ipython",
    "version": 3
   },
   "file_extension": ".py",
   "mimetype": "text/x-python",
   "name": "python",
   "nbconvert_exporter": "python",
   "pygments_lexer": "ipython3",
   "version": "3.12.7"
  }
 },
 "nbformat": 4,
 "nbformat_minor": 5
}
