{
 "cells": [
  {
   "cell_type": "code",
   "execution_count": 1,
   "id": "08b359ae-ff13-406c-b4d2-040a60e2ff14",
   "metadata": {},
   "outputs": [
    {
     "data": {
      "text/plain": [
       "'   abc def ghi '"
      ]
     },
     "execution_count": 1,
     "metadata": {},
     "output_type": "execute_result"
    }
   ],
   "source": [
    "text= \"   abc def ghi \"\n",
    "text"
   ]
  },
  {
   "cell_type": "code",
   "execution_count": 3,
   "id": "4a825e50-8a67-43fd-aca2-ac1d73988dc1",
   "metadata": {},
   "outputs": [
    {
     "data": {
      "text/plain": [
       "'abc def ghi '"
      ]
     },
     "execution_count": 3,
     "metadata": {},
     "output_type": "execute_result"
    }
   ],
   "source": [
    "text.lstrip()"
   ]
  },
  {
   "cell_type": "code",
   "execution_count": 5,
   "id": "c5fc6e09-b0a7-4528-aedb-4c82cdb8112a",
   "metadata": {},
   "outputs": [
    {
     "data": {
      "text/plain": [
       "'   abc def ghi '"
      ]
     },
     "execution_count": 5,
     "metadata": {},
     "output_type": "execute_result"
    }
   ],
   "source": [
    "text"
   ]
  },
  {
   "cell_type": "code",
   "execution_count": 9,
   "id": "ace956e1-d92e-4212-aa5e-1abaaf860da5",
   "metadata": {},
   "outputs": [
    {
     "data": {
      "text/plain": [
       "'   abc def ghi'"
      ]
     },
     "execution_count": 9,
     "metadata": {},
     "output_type": "execute_result"
    }
   ],
   "source": [
    "text.rstrip()"
   ]
  },
  {
   "cell_type": "code",
   "execution_count": 11,
   "id": "153ea06a-22a4-4536-96f3-2619a8882470",
   "metadata": {},
   "outputs": [
    {
     "data": {
      "text/plain": [
       "'abc def ghi'"
      ]
     },
     "execution_count": 11,
     "metadata": {},
     "output_type": "execute_result"
    }
   ],
   "source": [
    "text.strip()"
   ]
  },
  {
   "cell_type": "code",
   "execution_count": 13,
   "id": "1e03601e-bb84-4987-a649-a5b37333a2db",
   "metadata": {},
   "outputs": [
    {
     "ename": "SyntaxError",
     "evalue": "invalid syntax (2388724354.py, line 1)",
     "output_type": "error",
     "traceback": [
      "\u001b[1;36m  Cell \u001b[1;32mIn[13], line 1\u001b[1;36m\u001b[0m\n\u001b[1;33m    mystr=\"My Favourite TV Series is \"Game of Thorns\"\"\u001b[0m\n\u001b[1;37m                                      ^\u001b[0m\n\u001b[1;31mSyntaxError\u001b[0m\u001b[1;31m:\u001b[0m invalid syntax\n"
     ]
    }
   ],
   "source": [
    "mystr=\"My Favourite TV Series is \"Game of Thorns\"\"\n",
    "mystr"
   ]
  },
  {
   "cell_type": "code",
   "execution_count": 22,
   "id": "f3190a56-9d28-407c-aade-2f0e819de14c",
   "metadata": {},
   "outputs": [],
   "source": [
    "mystr= \"My Favourite TV Series is \\\"Game pf Thorns\\\"\""
   ]
  },
  {
   "cell_type": "code",
   "execution_count": 24,
   "id": "e8a11954-f704-4b4f-994f-f7e2ad80493a",
   "metadata": {},
   "outputs": [
    {
     "data": {
      "text/plain": [
       "'My Favourite TV Series is \"Game pf Thorns\"'"
      ]
     },
     "execution_count": 24,
     "metadata": {},
     "output_type": "execute_result"
    }
   ],
   "source": [
    "mystr"
   ]
  },
  {
   "cell_type": "markdown",
   "id": "698f9dc9-d111-4bac-847d-581695b4b97e",
   "metadata": {},
   "source": [
    "List Creation"
   ]
  },
  {
   "cell_type": "code",
   "execution_count": 31,
   "id": "44810852-1672-4fcf-9ca8-05d48276743f",
   "metadata": {},
   "outputs": [],
   "source": [
    "list1=[]"
   ]
  },
  {
   "cell_type": "code",
   "execution_count": 35,
   "id": "57478cae-36e2-4cd9-be2a-a9a7763e3a1e",
   "metadata": {},
   "outputs": [
    {
     "data": {
      "text/plain": [
       "[1, 2, 3]"
      ]
     },
     "execution_count": 35,
     "metadata": {},
     "output_type": "execute_result"
    }
   ],
   "source": [
    "list2=[1,2,3]\n",
    "list2"
   ]
  },
  {
   "cell_type": "code",
   "execution_count": 39,
   "id": "8e9c13cb-65a4-490f-b6a4-d7cb0debbc11",
   "metadata": {},
   "outputs": [],
   "source": [
    "list3=[1.2,3.4,5.6,7.8]"
   ]
  },
  {
   "cell_type": "code",
   "execution_count": 41,
   "id": "456602d0-aaf3-4171-8151-b53d904664be",
   "metadata": {},
   "outputs": [],
   "source": [
    "list4=[\"ABC\", \"CDE\", \"EFG\"]"
   ]
  },
  {
   "cell_type": "code",
   "execution_count": 58,
   "id": "a0f6c493-61cb-4a7b-803d-d528eb361465",
   "metadata": {},
   "outputs": [],
   "source": [
    "list5=[41, \"sandya\", [1,2],[11,9]]"
   ]
  },
  {
   "cell_type": "code",
   "execution_count": 60,
   "id": "cdac68fb-5e22-465a-a847-cdf95343dda4",
   "metadata": {},
   "outputs": [],
   "source": [
    "list6=[\"sandya\", 62.5, 41]"
   ]
  },
  {
   "cell_type": "code",
   "execution_count": 64,
   "id": "bd13ac7b-4892-41e2-ae05-f5800798431b",
   "metadata": {},
   "outputs": [
    {
     "name": "stdout",
     "output_type": "stream",
     "text": [
      "[]\n",
      "[1, 2, 3]\n",
      "[1.2, 3.4, 5.6, 7.8]\n",
      "['ABC', 'CDE', 'EFG']\n",
      "[41, 'sandya', [1, 2], [11, 9]]\n",
      "['sandya', 62.5, 41]\n"
     ]
    }
   ],
   "source": [
    "print(list1)\n",
    "print(list2)\n",
    "print(list3)\n",
    "print(list4)\n",
    "print(list5)\n",
    "print(list6)"
   ]
  },
  {
   "cell_type": "code",
   "execution_count": 66,
   "id": "cf8f27cc-8a0d-42d2-b805-a66a8197d8a9",
   "metadata": {},
   "outputs": [],
   "source": [
    "list7=[1,2,3,[2.5,4.5],{\"sanvik\",\"Radya\"}]"
   ]
  },
  {
   "cell_type": "code",
   "execution_count": 68,
   "id": "74e5ac0f-cd2d-4df5-b120-68e84780a76f",
   "metadata": {},
   "outputs": [
    {
     "name": "stdout",
     "output_type": "stream",
     "text": [
      "[1, 2, 3, [2.5, 4.5], {'sanvik', 'Radya'}]\n"
     ]
    }
   ],
   "source": [
    "print(list7)"
   ]
  },
  {
   "cell_type": "code",
   "execution_count": 77,
   "id": "2270a820-cf64-4bf0-8ff9-8446ded1b61a",
   "metadata": {},
   "outputs": [
    {
     "ename": "IndexError",
     "evalue": "list index out of range",
     "output_type": "error",
     "traceback": [
      "\u001b[1;31m---------------------------------------------------------------------------\u001b[0m",
      "\u001b[1;31mIndexError\u001b[0m                                Traceback (most recent call last)",
      "Cell \u001b[1;32mIn[77], line 1\u001b[0m\n\u001b[1;32m----> 1\u001b[0m list1[\u001b[38;5;241m0\u001b[39m]\n",
      "\u001b[1;31mIndexError\u001b[0m: list index out of range"
     ]
    }
   ],
   "source": [
    "list1[0]"
   ]
  },
  {
   "cell_type": "code",
   "execution_count": 79,
   "id": "67699c6c-8049-4bea-a695-e09f9bf50736",
   "metadata": {},
   "outputs": [
    {
     "data": {
      "text/plain": [
       "1"
      ]
     },
     "execution_count": 79,
     "metadata": {},
     "output_type": "execute_result"
    }
   ],
   "source": [
    "list2[0]"
   ]
  },
  {
   "cell_type": "code",
   "execution_count": 81,
   "id": "69eacecf-5869-4f0c-8759-369652b5c5b2",
   "metadata": {},
   "outputs": [
    {
     "data": {
      "text/plain": [
       "'sandya'"
      ]
     },
     "execution_count": 81,
     "metadata": {},
     "output_type": "execute_result"
    }
   ],
   "source": [
    "list6[0]"
   ]
  },
  {
   "cell_type": "code",
   "execution_count": 83,
   "id": "0f8cc165-0f3f-4350-994d-e67ba9edcc66",
   "metadata": {},
   "outputs": [
    {
     "data": {
      "text/plain": [
       "{'Radya', 'sanvik'}"
      ]
     },
     "execution_count": 83,
     "metadata": {},
     "output_type": "execute_result"
    }
   ],
   "source": [
    "list7[-1]"
   ]
  },
  {
   "cell_type": "code",
   "execution_count": 85,
   "id": "53c31b25-6fd0-48d1-82f0-280eecb4cd3c",
   "metadata": {},
   "outputs": [
    {
     "data": {
      "text/plain": [
       "41"
      ]
     },
     "execution_count": 85,
     "metadata": {},
     "output_type": "execute_result"
    }
   ],
   "source": [
    "list6[-1]"
   ]
  },
  {
   "cell_type": "code",
   "execution_count": 87,
   "id": "437fb8d1-e245-4f13-9d8c-99a83ff08ff9",
   "metadata": {},
   "outputs": [],
   "source": [
    "mylist=[\"one\", \"two\",\"three\",\"four\",\"five\",\"six\",\"seven\",\"eight\"]"
   ]
  },
  {
   "cell_type": "code",
   "execution_count": 91,
   "id": "5e4d26d7-1763-408d-8906-e118167ed1fa",
   "metadata": {},
   "outputs": [
    {
     "data": {
      "text/plain": [
       "['two', 'three']"
      ]
     },
     "execution_count": 91,
     "metadata": {},
     "output_type": "execute_result"
    }
   ],
   "source": [
    "mylist[1:3]"
   ]
  },
  {
   "cell_type": "code",
   "execution_count": 93,
   "id": "f9a5dfbb-b635-4848-874e-06479c078dd5",
   "metadata": {},
   "outputs": [
    {
     "data": {
      "text/plain": [
       "['one', 'two', 'three', 'four', 'five', 'six', 'seven']"
      ]
     },
     "execution_count": 93,
     "metadata": {},
     "output_type": "execute_result"
    }
   ],
   "source": [
    "mylist[:-1]"
   ]
  },
  {
   "cell_type": "code",
   "execution_count": 95,
   "id": "3446af1c-1fc5-457a-a778-bd41cd2496c2",
   "metadata": {},
   "outputs": [
    {
     "data": {
      "text/plain": [
       "['eight']"
      ]
     },
     "execution_count": 95,
     "metadata": {},
     "output_type": "execute_result"
    }
   ],
   "source": [
    "mylist[-1:]"
   ]
  },
  {
   "cell_type": "code",
   "execution_count": 106,
   "id": "72fc1676-83ae-4cd1-ac36-0db3a2f8b4f5",
   "metadata": {},
   "outputs": [
    {
     "data": {
      "text/plain": [
       "['four', 'five', 'six', 'seven', 'eight']"
      ]
     },
     "execution_count": 106,
     "metadata": {},
     "output_type": "execute_result"
    }
   ],
   "source": [
    "mylist[3:9]"
   ]
  },
  {
   "cell_type": "code",
   "execution_count": 108,
   "id": "3fa3085d-e61a-4174-9453-77bd7a68ac80",
   "metadata": {},
   "outputs": [
    {
     "data": {
      "text/plain": [
       "['four', 'five', 'six', 'seven', 'eight']"
      ]
     },
     "execution_count": 108,
     "metadata": {},
     "output_type": "execute_result"
    }
   ],
   "source": [
    "mylist[3:10]"
   ]
  },
  {
   "cell_type": "code",
   "execution_count": 110,
   "id": "276c40bb-b932-490d-802f-2f662949c18a",
   "metadata": {},
   "outputs": [
    {
     "data": {
      "text/plain": [
       "[]"
      ]
     },
     "execution_count": 110,
     "metadata": {},
     "output_type": "execute_result"
    }
   ],
   "source": [
    "mylist[10:]"
   ]
  },
  {
   "cell_type": "code",
   "execution_count": 112,
   "id": "b6b76348-14ba-44e0-8a1b-35eee799a018",
   "metadata": {},
   "outputs": [
    {
     "data": {
      "text/plain": [
       "[]"
      ]
     },
     "execution_count": 112,
     "metadata": {},
     "output_type": "execute_result"
    }
   ],
   "source": [
    "mylist[-1:0]"
   ]
  },
  {
   "cell_type": "code",
   "execution_count": 114,
   "id": "90727c40-c410-44e6-ad5c-2c03a1532427",
   "metadata": {},
   "outputs": [
    {
     "data": {
      "text/plain": [
       "[]"
      ]
     },
     "execution_count": 114,
     "metadata": {},
     "output_type": "execute_result"
    }
   ],
   "source": [
    "mylist[-1:-3]"
   ]
  },
  {
   "cell_type": "code",
   "execution_count": 125,
   "id": "75abf94a-2f97-4c09-baf9-75a3e2293dbc",
   "metadata": {},
   "outputs": [
    {
     "data": {
      "text/plain": [
       "['one', 'two', 'three', 'four', 'five', 'six', 'seven', 'eight']"
      ]
     },
     "execution_count": 125,
     "metadata": {},
     "output_type": "execute_result"
    }
   ],
   "source": [
    "mylist[:]"
   ]
  },
  {
   "cell_type": "markdown",
   "id": "26f4f6d5-bd6c-4500-aab3-b9b81929eb3c",
   "metadata": {},
   "source": [
    "List add/remove/change elements"
   ]
  },
  {
   "cell_type": "code",
   "execution_count": 135,
   "id": "eccb06cf-546b-4a62-9b52-00a29b040791",
   "metadata": {},
   "outputs": [
    {
     "ename": "NameError",
     "evalue": "name 'nine' is not defined",
     "output_type": "error",
     "traceback": [
      "\u001b[1;31m---------------------------------------------------------------------------\u001b[0m",
      "\u001b[1;31mNameError\u001b[0m                                 Traceback (most recent call last)",
      "Cell \u001b[1;32mIn[135], line 1\u001b[0m\n\u001b[1;32m----> 1\u001b[0m mylist\u001b[38;5;241m.\u001b[39mappend(nine)\n",
      "\u001b[1;31mNameError\u001b[0m: name 'nine' is not defined"
     ]
    }
   ],
   "source": [
    "mylist.append(nine)"
   ]
  },
  {
   "cell_type": "code",
   "execution_count": 137,
   "id": "fd294757-41ee-4b43-a586-69ccb4df85e4",
   "metadata": {},
   "outputs": [],
   "source": [
    "mylist.append(\"nine\")"
   ]
  },
  {
   "cell_type": "code",
   "execution_count": 139,
   "id": "9bd84b7f-b3f5-4a1c-9886-30991607c157",
   "metadata": {},
   "outputs": [
    {
     "data": {
      "text/plain": [
       "['one', 'two', 'three', 'four', 'five', 'six', 'seven', 'eight', 'nine']"
      ]
     },
     "execution_count": 139,
     "metadata": {},
     "output_type": "execute_result"
    }
   ],
   "source": [
    "mylist"
   ]
  },
  {
   "cell_type": "code",
   "execution_count": 141,
   "id": "7ffb1d38-bd4c-448e-b6ef-c156cba09f8e",
   "metadata": {},
   "outputs": [],
   "source": [
    "mylist.insert(9, 'ten')"
   ]
  },
  {
   "cell_type": "code",
   "execution_count": 143,
   "id": "18a32284-74bf-477f-ae75-4341e2872c3a",
   "metadata": {},
   "outputs": [
    {
     "data": {
      "text/plain": [
       "['one', 'two', 'three', 'four', 'five', 'six', 'seven', 'eight', 'nine', 'ten']"
      ]
     },
     "execution_count": 143,
     "metadata": {},
     "output_type": "execute_result"
    }
   ],
   "source": [
    "mylist"
   ]
  },
  {
   "cell_type": "code",
   "execution_count": 147,
   "id": "c21aff6f-d03c-4f8c-a8c9-7510d83098b8",
   "metadata": {},
   "outputs": [],
   "source": [
    "mylist.insert(1,'ONE')"
   ]
  },
  {
   "cell_type": "code",
   "execution_count": 149,
   "id": "5e51f3b4-734f-455c-aa91-35e7ca075483",
   "metadata": {},
   "outputs": [
    {
     "data": {
      "text/plain": [
       "['one',\n",
       " 'ONE',\n",
       " 'two',\n",
       " 'three',\n",
       " 'four',\n",
       " 'five',\n",
       " 'six',\n",
       " 'seven',\n",
       " 'eight',\n",
       " 'nine',\n",
       " 'ten']"
      ]
     },
     "execution_count": 149,
     "metadata": {},
     "output_type": "execute_result"
    }
   ],
   "source": [
    "mylist"
   ]
  },
  {
   "cell_type": "code",
   "execution_count": 164,
   "id": "65336858-6d05-4502-a88b-844896b12ef8",
   "metadata": {},
   "outputs": [],
   "source": [
    "mylist.remove('ONE')"
   ]
  },
  {
   "cell_type": "code",
   "execution_count": 166,
   "id": "7d2313bc-28a5-4cae-99b7-d477191e8f1b",
   "metadata": {},
   "outputs": [
    {
     "data": {
      "text/plain": [
       "['one', 'two', 'three', 'four', 'five', 'six', 'seven', 'eight', 'nine', 'ten']"
      ]
     },
     "execution_count": 166,
     "metadata": {},
     "output_type": "execute_result"
    }
   ],
   "source": [
    "mylist"
   ]
  },
  {
   "cell_type": "code",
   "execution_count": 168,
   "id": "5eb6bfa9-e5b4-4299-870e-fd23399d15d1",
   "metadata": {},
   "outputs": [
    {
     "data": {
      "text/plain": [
       "'ten'"
      ]
     },
     "execution_count": 168,
     "metadata": {},
     "output_type": "execute_result"
    }
   ],
   "source": [
    "mylist.pop()"
   ]
  },
  {
   "cell_type": "code",
   "execution_count": 170,
   "id": "e9897358-2c03-46cb-a4d8-c3e823d0a806",
   "metadata": {},
   "outputs": [
    {
     "data": {
      "text/plain": [
       "'nine'"
      ]
     },
     "execution_count": 170,
     "metadata": {},
     "output_type": "execute_result"
    }
   ],
   "source": [
    "mylist.pop(8)"
   ]
  },
  {
   "cell_type": "code",
   "execution_count": 174,
   "id": "1f350b34-6c6f-49b8-935c-3f3005b8adf5",
   "metadata": {},
   "outputs": [],
   "source": [
    "del mylist[7]"
   ]
  },
  {
   "cell_type": "code",
   "execution_count": 176,
   "id": "dc14af56-649c-475e-b4e5-7316d7af7277",
   "metadata": {},
   "outputs": [
    {
     "data": {
      "text/plain": [
       "['one', 'two', 'three', 'four', 'five', 'six', 'seven']"
      ]
     },
     "execution_count": 176,
     "metadata": {},
     "output_type": "execute_result"
    }
   ],
   "source": [
    "mylist"
   ]
  },
  {
   "cell_type": "code",
   "execution_count": 178,
   "id": "44be5c7f-f22e-46bc-b9a8-10c564f4d6d7",
   "metadata": {},
   "outputs": [
    {
     "data": {
      "text/plain": [
       "[1, 2, 3, 'four', 'five', 'six', 'seven']"
      ]
     },
     "execution_count": 178,
     "metadata": {},
     "output_type": "execute_result"
    }
   ],
   "source": [
    "mylist[0]=1\n",
    "mylist[1]=2\n",
    "mylist[2]=3\n",
    "mylist"
   ]
  },
  {
   "cell_type": "code",
   "execution_count": 188,
   "id": "b24e3ecc-a512-42d6-a826-c114417dd63c",
   "metadata": {},
   "outputs": [],
   "source": [
    "mylist.clear()"
   ]
  },
  {
   "cell_type": "code",
   "execution_count": 190,
   "id": "7ba28ce1-4f95-4556-bb99-84e66e422f81",
   "metadata": {},
   "outputs": [
    {
     "data": {
      "text/plain": [
       "[]"
      ]
     },
     "execution_count": 190,
     "metadata": {},
     "output_type": "execute_result"
    }
   ],
   "source": [
    "mylist"
   ]
  },
  {
   "cell_type": "code",
   "execution_count": 192,
   "id": "04836fe5-444c-4319-bdc9-d1dc70ec8876",
   "metadata": {},
   "outputs": [],
   "source": [
    "del mylist"
   ]
  },
  {
   "cell_type": "code",
   "execution_count": 194,
   "id": "19357a00-9239-44cf-9f92-eb7985f200e6",
   "metadata": {},
   "outputs": [
    {
     "ename": "NameError",
     "evalue": "name 'mylist' is not defined",
     "output_type": "error",
     "traceback": [
      "\u001b[1;31m---------------------------------------------------------------------------\u001b[0m",
      "\u001b[1;31mNameError\u001b[0m                                 Traceback (most recent call last)",
      "Cell \u001b[1;32mIn[194], line 1\u001b[0m\n\u001b[1;32m----> 1\u001b[0m mylist\n",
      "\u001b[1;31mNameError\u001b[0m: name 'mylist' is not defined"
     ]
    }
   ],
   "source": [
    "mylist"
   ]
  },
  {
   "cell_type": "code",
   "execution_count": null,
   "id": "de77506f-53bd-4bfc-a347-868c1de91ac4",
   "metadata": {},
   "outputs": [],
   "source": []
  },
  {
   "cell_type": "markdown",
   "id": "a29b0e28-4a10-4313-b67f-0f6011ab2002",
   "metadata": {},
   "source": [
    "Copy of List"
   ]
  },
  {
   "cell_type": "code",
   "execution_count": 229,
   "id": "6843d4b4-ed1e-423a-8ce7-6d28e0dcdede",
   "metadata": {},
   "outputs": [],
   "source": [
    "mylist = ['one', 'two', 'three', 'four', 'five', 'six', 'seven', 'eight', 'nine','ten']"
   ]
  },
  {
   "cell_type": "code",
   "execution_count": 231,
   "id": "b24e7d47-a094-4df5-9e5d-22e2c2340b3f",
   "metadata": {},
   "outputs": [],
   "source": [
    "mylist1=mylist"
   ]
  },
  {
   "cell_type": "code",
   "execution_count": 233,
   "id": "d6f535f5-5a4c-4675-a4a4-e44531cacd94",
   "metadata": {},
   "outputs": [
    {
     "data": {
      "text/plain": [
       "1606897656192"
      ]
     },
     "execution_count": 233,
     "metadata": {},
     "output_type": "execute_result"
    }
   ],
   "source": [
    "id(mylist)"
   ]
  },
  {
   "cell_type": "code",
   "execution_count": 235,
   "id": "283d009c-c311-42b3-8d56-da172aa78932",
   "metadata": {},
   "outputs": [
    {
     "data": {
      "text/plain": [
       "1606897656192"
      ]
     },
     "execution_count": 235,
     "metadata": {},
     "output_type": "execute_result"
    }
   ],
   "source": [
    "id(mylist1)"
   ]
  },
  {
   "cell_type": "code",
   "execution_count": 237,
   "id": "9b106db8-268f-4434-81db-a016addb655e",
   "metadata": {},
   "outputs": [],
   "source": [
    "mylist2=mylist.copy()"
   ]
  },
  {
   "cell_type": "code",
   "execution_count": 239,
   "id": "0d732c80-51d3-4406-be46-c649a041b28e",
   "metadata": {},
   "outputs": [
    {
     "data": {
      "text/plain": [
       "['one', 'two', 'three', 'four', 'five', 'six', 'seven', 'eight', 'nine', 'ten']"
      ]
     },
     "execution_count": 239,
     "metadata": {},
     "output_type": "execute_result"
    }
   ],
   "source": [
    "mylist2"
   ]
  },
  {
   "cell_type": "code",
   "execution_count": 241,
   "id": "86498749-2bcc-45ba-bc9b-e7ca6a3817d7",
   "metadata": {},
   "outputs": [
    {
     "data": {
      "text/plain": [
       "1606892882624"
      ]
     },
     "execution_count": 241,
     "metadata": {},
     "output_type": "execute_result"
    }
   ],
   "source": [
    "id(mylist2)"
   ]
  },
  {
   "cell_type": "code",
   "execution_count": 262,
   "id": "8efa1044-a0d4-4a29-999e-5d69307bac8b",
   "metadata": {},
   "outputs": [],
   "source": [
    "mylist[0]=1"
   ]
  },
  {
   "cell_type": "code",
   "execution_count": 264,
   "id": "2c9bdee3-4677-4e12-8c71-0a56cca1b891",
   "metadata": {},
   "outputs": [
    {
     "name": "stdout",
     "output_type": "stream",
     "text": [
      "[1, 'two', 'three', 'four', 'five', 'six', 'seven', 'eight', 'nine', 'ten']\n"
     ]
    }
   ],
   "source": [
    "print(mylist)"
   ]
  },
  {
   "cell_type": "code",
   "execution_count": 266,
   "id": "8597b4e6-4c8b-4ea9-b186-f661ff8fd387",
   "metadata": {},
   "outputs": [
    {
     "name": "stdout",
     "output_type": "stream",
     "text": [
      "[1, 'two', 'three', 'four', 'five', 'six', 'seven', 'eight', 'nine', 'ten']\n"
     ]
    }
   ],
   "source": [
    "print(mylist1)"
   ]
  },
  {
   "cell_type": "code",
   "execution_count": 268,
   "id": "36d97e66-e9da-477d-9e78-307df79d6eb6",
   "metadata": {},
   "outputs": [
    {
     "name": "stdout",
     "output_type": "stream",
     "text": [
      "['one', 'two', 'three', 'four', 'five', 'six', 'seven', 'eight', 'nine', 'ten']\n"
     ]
    }
   ],
   "source": [
    "print(mylist2)"
   ]
  },
  {
   "cell_type": "markdown",
   "id": "ba977dce-e1c6-44da-b5f6-7369517c38d8",
   "metadata": {},
   "source": [
    "Join the Lists"
   ]
  },
  {
   "cell_type": "code",
   "execution_count": 271,
   "id": "7cd57dcf-47f7-43d1-bb2f-1cb1b30afe20",
   "metadata": {},
   "outputs": [],
   "source": [
    "list1=['one', 'two', 'three','four']\n",
    "list2=['five','six','seven','eight']"
   ]
  },
  {
   "cell_type": "code",
   "execution_count": 273,
   "id": "bc921b86-b2a6-45a2-b409-9c2c10be785d",
   "metadata": {},
   "outputs": [],
   "source": [
    "list3=list1+list2"
   ]
  },
  {
   "cell_type": "code",
   "execution_count": 275,
   "id": "a27a63ae-78e0-43bf-b06a-67d6660e2066",
   "metadata": {},
   "outputs": [
    {
     "name": "stdout",
     "output_type": "stream",
     "text": [
      "['one', 'two', 'three', 'four', 'five', 'six', 'seven', 'eight']\n"
     ]
    }
   ],
   "source": [
    "print(list3)"
   ]
  },
  {
   "cell_type": "code",
   "execution_count": 279,
   "id": "1879d2ca-5535-4aa5-921b-402f90256f15",
   "metadata": {},
   "outputs": [],
   "source": [
    "list1.extend(list2)"
   ]
  },
  {
   "cell_type": "code",
   "execution_count": 281,
   "id": "d168b1d9-1dfb-4bfb-867f-e68b151e6a71",
   "metadata": {},
   "outputs": [
    {
     "name": "stdout",
     "output_type": "stream",
     "text": [
      "['one', 'two', 'three', 'four', 'five', 'six', 'seven', 'eight']\n"
     ]
    }
   ],
   "source": [
    "print(list1)"
   ]
  },
  {
   "cell_type": "code",
   "execution_count": 283,
   "id": "e3506b35-2ff7-4f22-b0b7-98bc40ebd1e4",
   "metadata": {},
   "outputs": [
    {
     "name": "stdout",
     "output_type": "stream",
     "text": [
      "['five', 'six', 'seven', 'eight']\n"
     ]
    }
   ],
   "source": [
    "print(list2)"
   ]
  },
  {
   "cell_type": "markdown",
   "id": "3d8cb3bd-862a-49aa-b7fd-3059092bf8ed",
   "metadata": {},
   "source": [
    "List Membership"
   ]
  },
  {
   "cell_type": "code",
   "execution_count": 290,
   "id": "bdd18885-da16-4eec-ae05-7cffcfdfb629",
   "metadata": {},
   "outputs": [
    {
     "name": "stdout",
     "output_type": "stream",
     "text": [
      "False\n"
     ]
    }
   ],
   "source": [
    "print('one' in mylist1)"
   ]
  },
  {
   "cell_type": "code",
   "execution_count": 292,
   "id": "f5401375-8f89-435b-b97e-664f30265bce",
   "metadata": {},
   "outputs": [
    {
     "data": {
      "text/plain": [
       "[1, 'two', 'three', 'four', 'five', 'six', 'seven', 'eight', 'nine', 'ten']"
      ]
     },
     "execution_count": 292,
     "metadata": {},
     "output_type": "execute_result"
    }
   ],
   "source": [
    "mylist1"
   ]
  },
  {
   "cell_type": "code",
   "execution_count": 294,
   "id": "e8888d8c-b77f-49fb-8e0b-1c02e02d8ac3",
   "metadata": {},
   "outputs": [
    {
     "data": {
      "text/plain": [
       "True"
      ]
     },
     "execution_count": 294,
     "metadata": {},
     "output_type": "execute_result"
    }
   ],
   "source": [
    "'two' in mylist1"
   ]
  },
  {
   "cell_type": "code",
   "execution_count": 300,
   "id": "6ecd5af0-57a0-4453-80b9-8ad789b84b48",
   "metadata": {},
   "outputs": [
    {
     "name": "stdout",
     "output_type": "stream",
     "text": [
      "three is availbale\n"
     ]
    }
   ],
   "source": [
    "if 'three' in mylist1:\n",
    "    print(\"three is availbale\")\n",
    "else:\n",
    "    print(\"three is not available\")\n"
   ]
  },
  {
   "cell_type": "code",
   "execution_count": 304,
   "id": "00023b57-0b1f-44dd-a700-c13717da1601",
   "metadata": {},
   "outputs": [
    {
     "name": "stdout",
     "output_type": "stream",
     "text": [
      "one is not available\n"
     ]
    }
   ],
   "source": [
    "if 'one'in mylist1:\n",
    "    print(\"one is available\")\n",
    "else:\n",
    "    print(\"one is not available\")"
   ]
  },
  {
   "cell_type": "code",
   "execution_count": 306,
   "id": "4d3895c4-a5c3-49be-9817-80dd1357525b",
   "metadata": {},
   "outputs": [
    {
     "name": "stdout",
     "output_type": "stream",
     "text": [
      "1\n",
      "two\n",
      "three\n",
      "four\n",
      "five\n",
      "six\n",
      "seven\n",
      "eight\n",
      "nine\n",
      "ten\n"
     ]
    }
   ],
   "source": [
    "for i in mylist1:\n",
    "    print(i)"
   ]
  },
  {
   "cell_type": "markdown",
   "id": "5ed1e94b-e33f-48f1-99f1-7fd571640f6d",
   "metadata": {},
   "source": [
    "Riverse and Sort List"
   ]
  },
  {
   "cell_type": "code",
   "execution_count": 322,
   "id": "b46a7ad3-4ca0-42da-b0d9-545a84a7ded4",
   "metadata": {},
   "outputs": [
    {
     "data": {
      "text/plain": [
       "[1, 'two', 'three', 'four', 'five', 'six', 'seven', 'eight', 'nine', 'ten']"
      ]
     },
     "execution_count": 322,
     "metadata": {},
     "output_type": "execute_result"
    }
   ],
   "source": [
    "mylist"
   ]
  },
  {
   "cell_type": "code",
   "execution_count": 324,
   "id": "808bcb70-88de-412c-9e5f-31678df330c7",
   "metadata": {},
   "outputs": [],
   "source": [
    "mylist.reverse()"
   ]
  },
  {
   "cell_type": "code",
   "execution_count": 326,
   "id": "59cadc55-eb56-4ecf-b37e-2311ab048e40",
   "metadata": {},
   "outputs": [
    {
     "data": {
      "text/plain": [
       "['ten', 'nine', 'eight', 'seven', 'six', 'five', 'four', 'three', 'two', 1]"
      ]
     },
     "execution_count": 326,
     "metadata": {},
     "output_type": "execute_result"
    }
   ],
   "source": [
    "mylist"
   ]
  },
  {
   "cell_type": "code",
   "execution_count": 332,
   "id": "740dbc03-04ba-4bf6-bdaa-09bf5db01fd0",
   "metadata": {},
   "outputs": [
    {
     "data": {
      "text/plain": [
       "[1, 'two', 'three', 'four', 'five', 'six', 'seven', 'eight', 'nine', 'ten']"
      ]
     },
     "execution_count": 332,
     "metadata": {},
     "output_type": "execute_result"
    }
   ],
   "source": [
    "mylist[::-1]"
   ]
  },
  {
   "cell_type": "code",
   "execution_count": 334,
   "id": "4250471b-8074-40c4-b443-d085c6f25bfe",
   "metadata": {},
   "outputs": [
    {
     "data": {
      "text/plain": [
       "['ten', 'nine', 'eight', 'seven', 'six', 'five', 'four', 'three', 'two', 1]"
      ]
     },
     "execution_count": 334,
     "metadata": {},
     "output_type": "execute_result"
    }
   ],
   "source": [
    "mylist"
   ]
  },
  {
   "cell_type": "code",
   "execution_count": 336,
   "id": "b08edbdb-b493-4d0d-9c75-2f51ab45d42c",
   "metadata": {},
   "outputs": [],
   "source": [
    "mylist.reverse()"
   ]
  },
  {
   "cell_type": "code",
   "execution_count": 338,
   "id": "bafb6516-7dcb-49ab-9268-e0d4c5b9836d",
   "metadata": {},
   "outputs": [
    {
     "data": {
      "text/plain": [
       "[1, 'two', 'three', 'four', 'five', 'six', 'seven', 'eight', 'nine', 'ten']"
      ]
     },
     "execution_count": 338,
     "metadata": {},
     "output_type": "execute_result"
    }
   ],
   "source": [
    "mylist"
   ]
  },
  {
   "cell_type": "code",
   "execution_count": 340,
   "id": "90022b9d-2b3d-4c02-8bd6-9a8a2d9565fd",
   "metadata": {},
   "outputs": [
    {
     "data": {
      "text/plain": [
       "['ten', 'nine', 'eight', 'seven', 'six', 'five', 'four', 'three', 'two', 1]"
      ]
     },
     "execution_count": 340,
     "metadata": {},
     "output_type": "execute_result"
    }
   ],
   "source": [
    "mylist[::-1]"
   ]
  },
  {
   "cell_type": "code",
   "execution_count": 342,
   "id": "971af047-9072-4fcb-8e6e-1249da583870",
   "metadata": {},
   "outputs": [
    {
     "data": {
      "text/plain": [
       "[1, 'two', 'three', 'four', 'five', 'six', 'seven', 'eight', 'nine', 'ten']"
      ]
     },
     "execution_count": 342,
     "metadata": {},
     "output_type": "execute_result"
    }
   ],
   "source": [
    "mylist"
   ]
  },
  {
   "cell_type": "code",
   "execution_count": 356,
   "id": "1d2d7cf3-8fb3-4d2e-b49c-1933af45bf3d",
   "metadata": {},
   "outputs": [
    {
     "ename": "NameError",
     "evalue": "name 'mylist3' is not defined",
     "output_type": "error",
     "traceback": [
      "\u001b[1;31m---------------------------------------------------------------------------\u001b[0m",
      "\u001b[1;31mNameError\u001b[0m                                 Traceback (most recent call last)",
      "Cell \u001b[1;32mIn[356], line 1\u001b[0m\n\u001b[1;32m----> 1\u001b[0m mylist3\u001b[38;5;241m.\u001b[39msorted()\n",
      "\u001b[1;31mNameError\u001b[0m: name 'mylist3' is not defined"
     ]
    }
   ],
   "source": [
    "mylist3.sorted()"
   ]
  },
  {
   "cell_type": "code",
   "execution_count": 358,
   "id": "e561aa72-46ed-43a9-8c51-cdaa21b8bc13",
   "metadata": {},
   "outputs": [
    {
     "ename": "NameError",
     "evalue": "name 'mylist3' is not defined",
     "output_type": "error",
     "traceback": [
      "\u001b[1;31m---------------------------------------------------------------------------\u001b[0m",
      "\u001b[1;31mNameError\u001b[0m                                 Traceback (most recent call last)",
      "Cell \u001b[1;32mIn[358], line 1\u001b[0m\n\u001b[1;32m----> 1\u001b[0m mylist3\n",
      "\u001b[1;31mNameError\u001b[0m: name 'mylist3' is not defined"
     ]
    }
   ],
   "source": [
    "mylist3"
   ]
  },
  {
   "cell_type": "code",
   "execution_count": 360,
   "id": "2be9292c-72a2-4057-9b8c-9bfd83be0d69",
   "metadata": {},
   "outputs": [
    {
     "data": {
      "text/plain": [
       "['one', 'two', 'three', 'four', 'five', 'six', 'seven', 'eight']"
      ]
     },
     "execution_count": 360,
     "metadata": {},
     "output_type": "execute_result"
    }
   ],
   "source": [
    "list3"
   ]
  },
  {
   "cell_type": "code",
   "execution_count": 364,
   "id": "7605ab6a-a4c7-4fe8-b65a-278261374a2f",
   "metadata": {},
   "outputs": [],
   "source": [
    "list3.sort()"
   ]
  },
  {
   "cell_type": "code",
   "execution_count": 366,
   "id": "2dbc821f-5e62-434e-a0ec-fb4e5faa1de6",
   "metadata": {},
   "outputs": [
    {
     "data": {
      "text/plain": [
       "['eight', 'five', 'four', 'one', 'seven', 'six', 'three', 'two']"
      ]
     },
     "execution_count": 366,
     "metadata": {},
     "output_type": "execute_result"
    }
   ],
   "source": [
    "list3"
   ]
  },
  {
   "cell_type": "code",
   "execution_count": 370,
   "id": "6db87ccc-9684-4899-840b-bf77e62cdd32",
   "metadata": {},
   "outputs": [],
   "source": [
    "list3.sort(reverse=True)"
   ]
  },
  {
   "cell_type": "code",
   "execution_count": 372,
   "id": "72ee0e5b-748a-4a3b-abe4-a1ffd9f66083",
   "metadata": {},
   "outputs": [
    {
     "data": {
      "text/plain": [
       "['two', 'three', 'six', 'seven', 'one', 'four', 'five', 'eight']"
      ]
     },
     "execution_count": 372,
     "metadata": {},
     "output_type": "execute_result"
    }
   ],
   "source": [
    "list3"
   ]
  },
  {
   "cell_type": "code",
   "execution_count": 374,
   "id": "956f5c4d-a20e-4485-8fcb-fe2dc9b807e4",
   "metadata": {},
   "outputs": [
    {
     "data": {
      "text/plain": [
       "['eight', 'five', 'four', 'one', 'seven', 'six', 'three', 'two']"
      ]
     },
     "execution_count": 374,
     "metadata": {},
     "output_type": "execute_result"
    }
   ],
   "source": [
    "sorted(list3)"
   ]
  },
  {
   "cell_type": "markdown",
   "id": "50954735-41af-47c8-938e-0dfd82bb6807",
   "metadata": {},
   "source": [
    "Loop through the list"
   ]
  },
  {
   "cell_type": "code",
   "execution_count": 387,
   "id": "60f46f00-1e6e-409d-9106-f80cc247f4c5",
   "metadata": {},
   "outputs": [
    {
     "data": {
      "text/plain": [
       "['one', 'two', 'three', 'four', 'five', 'six', 'seven', 'eight']"
      ]
     },
     "execution_count": 387,
     "metadata": {},
     "output_type": "execute_result"
    }
   ],
   "source": [
    "list1"
   ]
  },
  {
   "cell_type": "code",
   "execution_count": 391,
   "id": "a3735095-9f61-4a88-8c81-3650f8cc7b71",
   "metadata": {},
   "outputs": [
    {
     "name": "stdout",
     "output_type": "stream",
     "text": [
      "one\n",
      "two\n",
      "three\n",
      "four\n",
      "five\n",
      "six\n",
      "seven\n",
      "eight\n"
     ]
    }
   ],
   "source": [
    "for i in list1:\n",
    " print(i)"
   ]
  },
  {
   "cell_type": "code",
   "execution_count": 401,
   "id": "3c6c5bc8-980a-4ec3-b64f-e43bf60fa0af",
   "metadata": {},
   "outputs": [
    {
     "name": "stdout",
     "output_type": "stream",
     "text": [
      "(0, 'one')\n",
      "(1, 'two')\n",
      "(2, 'three')\n",
      "(3, 'four')\n",
      "(4, 'five')\n",
      "(5, 'six')\n",
      "(6, 'seven')\n",
      "(7, 'eight')\n"
     ]
    }
   ],
   "source": [
    "for i in enumerate(list1):\n",
    "    print(i)"
   ]
  },
  {
   "cell_type": "markdown",
   "id": "0715f918-688e-4121-9ad3-977b0769d9cd",
   "metadata": {},
   "source": [
    "Count"
   ]
  },
  {
   "cell_type": "code",
   "execution_count": 414,
   "id": "20851173-3f33-46ff-b680-a1958db5e5b1",
   "metadata": {},
   "outputs": [
    {
     "data": {
      "text/plain": [
       "1"
      ]
     },
     "execution_count": 414,
     "metadata": {},
     "output_type": "execute_result"
    }
   ],
   "source": [
    "list1.count('one')"
   ]
  },
  {
   "cell_type": "markdown",
   "id": "479a1201-5534-4594-ae2e-2355390a37f3",
   "metadata": {},
   "source": [
    "All/Any"
   ]
  },
  {
   "cell_type": "code",
   "execution_count": 421,
   "id": "5d82437f-3819-49a4-a693-3439a00fae8f",
   "metadata": {},
   "outputs": [],
   "source": [
    "l1=[1,2,3,4,5,0]\n"
   ]
  },
  {
   "cell_type": "code",
   "execution_count": 423,
   "id": "8cd5110a-5a8c-480a-8db8-94d86244adaf",
   "metadata": {},
   "outputs": [
    {
     "data": {
      "text/plain": [
       "False"
      ]
     },
     "execution_count": 423,
     "metadata": {},
     "output_type": "execute_result"
    }
   ],
   "source": [
    "all(l1)"
   ]
  },
  {
   "cell_type": "code",
   "execution_count": 425,
   "id": "528de167-f6aa-4df9-a765-4e76b81b6826",
   "metadata": {},
   "outputs": [
    {
     "data": {
      "text/plain": [
       "True"
      ]
     },
     "execution_count": 425,
     "metadata": {},
     "output_type": "execute_result"
    }
   ],
   "source": [
    "any(l1)"
   ]
  },
  {
   "cell_type": "code",
   "execution_count": 439,
   "id": "a73d95e9-f8a6-43b1-bfac-accb25b24cfd",
   "metadata": {},
   "outputs": [],
   "source": [
    "l2=[1,2,3,4,True,False]"
   ]
  },
  {
   "cell_type": "code",
   "execution_count": 441,
   "id": "46d55ecc-ebb1-4b60-817b-61ad0e35b108",
   "metadata": {},
   "outputs": [
    {
     "data": {
      "text/plain": [
       "False"
      ]
     },
     "execution_count": 441,
     "metadata": {},
     "output_type": "execute_result"
    }
   ],
   "source": [
    "all(l2)"
   ]
  },
  {
   "cell_type": "code",
   "execution_count": 443,
   "id": "d74340f7-4199-4ef9-882c-6c3c217c43f1",
   "metadata": {},
   "outputs": [
    {
     "data": {
      "text/plain": [
       "True"
      ]
     },
     "execution_count": 443,
     "metadata": {},
     "output_type": "execute_result"
    }
   ],
   "source": [
    "any(l2)"
   ]
  },
  {
   "cell_type": "code",
   "execution_count": 445,
   "id": "58bb71b3-bbdb-4c47-a9ea-713ea6e7d145",
   "metadata": {},
   "outputs": [],
   "source": [
    "l3=[1,2,3,True]"
   ]
  },
  {
   "cell_type": "code",
   "execution_count": 447,
   "id": "2f589608-584d-46bb-92ce-ecebe90d1924",
   "metadata": {},
   "outputs": [
    {
     "data": {
      "text/plain": [
       "True"
      ]
     },
     "execution_count": 447,
     "metadata": {},
     "output_type": "execute_result"
    }
   ],
   "source": [
    "all(l3)"
   ]
  },
  {
   "cell_type": "code",
   "execution_count": null,
   "id": "914b2c7f-2b3f-47d3-9d8e-2c7346566e3e",
   "metadata": {},
   "outputs": [],
   "source": []
  },
  {
   "cell_type": "code",
   "execution_count": null,
   "id": "255e5161-8a1d-4d78-9a69-31c64152c21d",
   "metadata": {},
   "outputs": [],
   "source": []
  },
  {
   "cell_type": "code",
   "execution_count": null,
   "id": "51c3e253-f357-4a77-a199-41b3ac0c9149",
   "metadata": {},
   "outputs": [],
   "source": []
  },
  {
   "cell_type": "code",
   "execution_count": null,
   "id": "d052aefa-64d4-4949-9a0e-20881a9aecbe",
   "metadata": {},
   "outputs": [],
   "source": []
  },
  {
   "cell_type": "code",
   "execution_count": null,
   "id": "25f6f804-c094-4934-a43c-4126bdeb1056",
   "metadata": {},
   "outputs": [],
   "source": []
  },
  {
   "cell_type": "code",
   "execution_count": null,
   "id": "d531faa4-c5b2-458e-83b4-5f7c2d055d3d",
   "metadata": {},
   "outputs": [],
   "source": []
  },
  {
   "cell_type": "code",
   "execution_count": null,
   "id": "32db1c9b-6b84-45be-8e15-9712c9cf4766",
   "metadata": {},
   "outputs": [],
   "source": []
  },
  {
   "cell_type": "code",
   "execution_count": null,
   "id": "1f2baac2-0a02-4a24-910c-ef63fa848422",
   "metadata": {},
   "outputs": [],
   "source": []
  },
  {
   "cell_type": "code",
   "execution_count": null,
   "id": "7c835110-e626-4dee-bf7d-28e6beabae73",
   "metadata": {},
   "outputs": [],
   "source": []
  }
 ],
 "metadata": {
  "kernelspec": {
   "display_name": "Python [conda env:base] *",
   "language": "python",
   "name": "conda-base-py"
  },
  "language_info": {
   "codemirror_mode": {
    "name": "ipython",
    "version": 3
   },
   "file_extension": ".py",
   "mimetype": "text/x-python",
   "name": "python",
   "nbconvert_exporter": "python",
   "pygments_lexer": "ipython3",
   "version": "3.12.7"
  }
 },
 "nbformat": 4,
 "nbformat_minor": 5
}
