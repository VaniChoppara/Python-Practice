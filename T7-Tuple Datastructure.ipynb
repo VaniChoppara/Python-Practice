{
 "cells": [
  {
   "cell_type": "markdown",
   "id": "4d22b9bb-ac2b-4f14-8c26-3c7f9db35f64",
   "metadata": {},
   "source": [
    "Tuple Creation"
   ]
  },
  {
   "cell_type": "code",
   "execution_count": 2,
   "id": "4b87ffcf-74db-48a2-9796-fbbcfb1d5316",
   "metadata": {},
   "outputs": [],
   "source": [
    "tup1=()"
   ]
  },
  {
   "cell_type": "code",
   "execution_count": 4,
   "id": "a9209c3f-8e56-424d-b44c-7044919939d1",
   "metadata": {},
   "outputs": [],
   "source": [
    "tup2=(10,30,60)"
   ]
  },
  {
   "cell_type": "code",
   "execution_count": 6,
   "id": "155b489a-b0fa-4d21-b680-0f5b19ea8e38",
   "metadata": {},
   "outputs": [],
   "source": [
    "tup3=(2.3,1.2,3.4,5.6)"
   ]
  },
  {
   "cell_type": "code",
   "execution_count": 8,
   "id": "73f705f6-e41f-417d-bc0f-dea242370a3a",
   "metadata": {},
   "outputs": [],
   "source": [
    "tup4=('one','two','three','four')"
   ]
  },
  {
   "cell_type": "code",
   "execution_count": 10,
   "id": "12eee05a-99f0-474c-83a5-bf3d6a4dad10",
   "metadata": {},
   "outputs": [],
   "source": [
    "tup5=('Asif', 25, (3,5), (2.5,1.5))"
   ]
  },
  {
   "cell_type": "code",
   "execution_count": 12,
   "id": "089a8d08-013e-48e5-ab57-f1667b1d3a04",
   "metadata": {},
   "outputs": [],
   "source": [
    "tup6=('Sanvik', 11,31.5)"
   ]
  },
  {
   "cell_type": "code",
   "execution_count": 14,
   "id": "42f8f1d7-a2ec-4e03-8db4-ea63c42c8d72",
   "metadata": {},
   "outputs": [
    {
     "data": {
      "text/plain": [
       "3"
      ]
     },
     "execution_count": 14,
     "metadata": {},
     "output_type": "execute_result"
    }
   ],
   "source": [
    "len(tup6)"
   ]
  },
  {
   "cell_type": "markdown",
   "id": "43a6124e-17a3-4f6c-9df2-626ad4e792c4",
   "metadata": {},
   "source": [
    "Tuple Indexing"
   ]
  },
  {
   "cell_type": "code",
   "execution_count": 17,
   "id": "73b9a793-3d91-466a-aa2d-06f299f136be",
   "metadata": {},
   "outputs": [
    {
     "data": {
      "text/plain": [
       "10"
      ]
     },
     "execution_count": 17,
     "metadata": {},
     "output_type": "execute_result"
    }
   ],
   "source": [
    "tup2[0]"
   ]
  },
  {
   "cell_type": "code",
   "execution_count": 26,
   "id": "9b19e066-dbea-4778-ba44-ccf1cacf0e06",
   "metadata": {},
   "outputs": [
    {
     "data": {
      "text/plain": [
       "2.5"
      ]
     },
     "execution_count": 26,
     "metadata": {},
     "output_type": "execute_result"
    }
   ],
   "source": [
    "tup5[3][0]"
   ]
  },
  {
   "cell_type": "code",
   "execution_count": 28,
   "id": "dc8c17f3-0705-4f00-8090-ce1f7a1ca4d3",
   "metadata": {},
   "outputs": [
    {
     "data": {
      "text/plain": [
       "31.5"
      ]
     },
     "execution_count": 28,
     "metadata": {},
     "output_type": "execute_result"
    }
   ],
   "source": [
    "tup6[-1]"
   ]
  },
  {
   "cell_type": "code",
   "execution_count": 30,
   "id": "f2b62e17-0847-478e-bf09-0c3cc886ef8f",
   "metadata": {},
   "outputs": [
    {
     "data": {
      "text/plain": [
       "(2.5, 1.5)"
      ]
     },
     "execution_count": 30,
     "metadata": {},
     "output_type": "execute_result"
    }
   ],
   "source": [
    "tup5[-1]"
   ]
  },
  {
   "cell_type": "markdown",
   "id": "8c65d717-c1de-46bb-a9c9-db6243c8bdf9",
   "metadata": {},
   "source": [
    "Tuple slicing"
   ]
  },
  {
   "cell_type": "code",
   "execution_count": 91,
   "id": "86e3ab79-387e-43a1-a2a9-7f0abe12b70c",
   "metadata": {},
   "outputs": [],
   "source": [
    "mytuple=('one','two','three','four','five','six','seven','eight','nine','ten')"
   ]
  },
  {
   "cell_type": "code",
   "execution_count": 93,
   "id": "b19a0294-b115-4449-970c-b4cdead0c23e",
   "metadata": {},
   "outputs": [
    {
     "data": {
      "text/plain": [
       "('four', 'five', 'six', 'seven')"
      ]
     },
     "execution_count": 93,
     "metadata": {},
     "output_type": "execute_result"
    }
   ],
   "source": [
    "mytuple[3:7]"
   ]
  },
  {
   "cell_type": "code",
   "execution_count": 95,
   "id": "02968f4b-5213-4319-82e1-1140d4329cc9",
   "metadata": {},
   "outputs": [
    {
     "data": {
      "text/plain": [
       "('one', 'two', 'three', 'four', 'five', 'six', 'seven', 'eight', 'nine', 'ten')"
      ]
     },
     "execution_count": 95,
     "metadata": {},
     "output_type": "execute_result"
    }
   ],
   "source": [
    "mytuple[:112]"
   ]
  },
  {
   "cell_type": "code",
   "execution_count": 97,
   "id": "bf3a0eee-5e56-47ff-a60f-64440a01bf1b",
   "metadata": {},
   "outputs": [
    {
     "data": {
      "text/plain": [
       "('nine',)"
      ]
     },
     "execution_count": 97,
     "metadata": {},
     "output_type": "execute_result"
    }
   ],
   "source": [
    "mytuple[8:-1]"
   ]
  },
  {
   "cell_type": "code",
   "execution_count": 99,
   "id": "0464fcde-e268-4165-83c2-3103f8b5a527",
   "metadata": {},
   "outputs": [
    {
     "data": {
      "text/plain": [
       "()"
      ]
     },
     "execution_count": 99,
     "metadata": {},
     "output_type": "execute_result"
    }
   ],
   "source": [
    "mytuple[-1:-4]"
   ]
  },
  {
   "cell_type": "code",
   "execution_count": 101,
   "id": "354f479a-caec-4c71-8e37-db5c1c6cc30d",
   "metadata": {},
   "outputs": [
    {
     "data": {
      "text/plain": [
       "('seven', 'eight', 'nine')"
      ]
     },
     "execution_count": 101,
     "metadata": {},
     "output_type": "execute_result"
    }
   ],
   "source": [
    "mytuple[-4:-1]"
   ]
  },
  {
   "cell_type": "code",
   "execution_count": 103,
   "id": "6ae5b15f-358d-4d39-a32b-a9adf5d6fc3e",
   "metadata": {},
   "outputs": [
    {
     "data": {
      "text/plain": [
       "('one', 'two', 'three', 'four', 'five', 'six', 'seven', 'eight', 'nine', 'ten')"
      ]
     },
     "execution_count": 103,
     "metadata": {},
     "output_type": "execute_result"
    }
   ],
   "source": [
    "mytuple[:]"
   ]
  },
  {
   "cell_type": "code",
   "execution_count": 105,
   "id": "c7e60f70-f5fc-4e29-bb65-95b506c90229",
   "metadata": {},
   "outputs": [
    {
     "data": {
      "text/plain": [
       "('ten', 'nine', 'eight', 'seven', 'six', 'five', 'four', 'three', 'two', 'one')"
      ]
     },
     "execution_count": 105,
     "metadata": {},
     "output_type": "execute_result"
    }
   ],
   "source": [
    "mytuple[::-1]"
   ]
  },
  {
   "cell_type": "markdown",
   "id": "4c744d60-57bb-4f04-9ad7-e13b264e9795",
   "metadata": {},
   "source": [
    "#Remove or change Item"
   ]
  },
  {
   "cell_type": "code",
   "execution_count": 108,
   "id": "b21310be-a1d2-4ded-9dba-13d4f72fb538",
   "metadata": {},
   "outputs": [
    {
     "ename": "SyntaxError",
     "evalue": "leading zeros in decimal integer literals are not permitted; use an 0o prefix for octal integers (1091249603.py, line 1)",
     "output_type": "error",
     "traceback": [
      "\u001b[1;36m  Cell \u001b[1;32mIn[108], line 1\u001b[1;36m\u001b[0m\n\u001b[1;33m    mytuple[01]=1\u001b[0m\n\u001b[1;37m            ^\u001b[0m\n\u001b[1;31mSyntaxError\u001b[0m\u001b[1;31m:\u001b[0m leading zeros in decimal integer literals are not permitted; use an 0o prefix for octal integers\n"
     ]
    }
   ],
   "source": [
    "mytuple[01]=1"
   ]
  },
  {
   "cell_type": "code",
   "execution_count": 110,
   "id": "e00b3c5c-2e89-4a99-944e-80f572c4f00a",
   "metadata": {},
   "outputs": [
    {
     "ename": "TypeError",
     "evalue": "'tuple' object does not support item assignment",
     "output_type": "error",
     "traceback": [
      "\u001b[1;31m---------------------------------------------------------------------------\u001b[0m",
      "\u001b[1;31mTypeError\u001b[0m                                 Traceback (most recent call last)",
      "Cell \u001b[1;32mIn[110], line 1\u001b[0m\n\u001b[1;32m----> 1\u001b[0m mytuple[\u001b[38;5;241m0\u001b[39m]\u001b[38;5;241m=\u001b[39m\u001b[38;5;241m1\u001b[39m\n",
      "\u001b[1;31mTypeError\u001b[0m: 'tuple' object does not support item assignment"
     ]
    }
   ],
   "source": [
    "mytuple[0]=1"
   ]
  },
  {
   "cell_type": "code",
   "execution_count": 112,
   "id": "621bf22f-e217-48cb-b994-517cdb383436",
   "metadata": {},
   "outputs": [
    {
     "ename": "TypeError",
     "evalue": "'tuple' object doesn't support item deletion",
     "output_type": "error",
     "traceback": [
      "\u001b[1;31m---------------------------------------------------------------------------\u001b[0m",
      "\u001b[1;31mTypeError\u001b[0m                                 Traceback (most recent call last)",
      "Cell \u001b[1;32mIn[112], line 1\u001b[0m\n\u001b[1;32m----> 1\u001b[0m \u001b[38;5;28;01mdel\u001b[39;00m mytuple[\u001b[38;5;241m0\u001b[39m]\n",
      "\u001b[1;31mTypeError\u001b[0m: 'tuple' object doesn't support item deletion"
     ]
    }
   ],
   "source": [
    "del mytuple[0]"
   ]
  },
  {
   "cell_type": "code",
   "execution_count": 114,
   "id": "20ec4385-0a20-4f64-b995-6fc4b707309a",
   "metadata": {},
   "outputs": [],
   "source": [
    "del mytuple"
   ]
  },
  {
   "cell_type": "code",
   "execution_count": 116,
   "id": "7fa875a6-9ce5-4c38-9a83-7b816151dec1",
   "metadata": {},
   "outputs": [
    {
     "ename": "NameError",
     "evalue": "name 'mytuple' is not defined",
     "output_type": "error",
     "traceback": [
      "\u001b[1;31m---------------------------------------------------------------------------\u001b[0m",
      "\u001b[1;31mNameError\u001b[0m                                 Traceback (most recent call last)",
      "Cell \u001b[1;32mIn[116], line 1\u001b[0m\n\u001b[1;32m----> 1\u001b[0m mytuple\n",
      "\u001b[1;31mNameError\u001b[0m: name 'mytuple' is not defined"
     ]
    }
   ],
   "source": [
    "mytuple"
   ]
  },
  {
   "cell_type": "code",
   "execution_count": null,
   "id": "85f0c7f5-e660-4773-bd2e-e84b73d351c7",
   "metadata": {},
   "outputs": [],
   "source": []
  },
  {
   "cell_type": "markdown",
   "id": "e2ec1486-4b9b-4903-bab8-6f3f74113359",
   "metadata": {},
   "source": [
    "#Loop with tuple"
   ]
  },
  {
   "cell_type": "code",
   "execution_count": 120,
   "id": "c041f61f-fecb-486c-a136-b04b883543bd",
   "metadata": {},
   "outputs": [],
   "source": [
    "mytuple=('one','two','three','four','five','six','seven','eight','nine','ten')"
   ]
  },
  {
   "cell_type": "code",
   "execution_count": 136,
   "id": "c8970ee1-0830-4291-8de9-da800ef2d82a",
   "metadata": {},
   "outputs": [
    {
     "name": "stdout",
     "output_type": "stream",
     "text": [
      "one\n",
      "two\n",
      "three\n",
      "four\n",
      "five\n",
      "six\n",
      "seven\n",
      "eight\n",
      "nine\n",
      "ten\n"
     ]
    }
   ],
   "source": [
    " for i in mytuple:\n",
    "     print(i)"
   ]
  },
  {
   "cell_type": "code",
   "execution_count": 138,
   "id": "027d8123-6bbd-4f60-ab93-87e01a76d332",
   "metadata": {},
   "outputs": [
    {
     "name": "stdout",
     "output_type": "stream",
     "text": [
      "(0, 'one')\n",
      "(1, 'two')\n",
      "(2, 'three')\n",
      "(3, 'four')\n",
      "(4, 'five')\n",
      "(5, 'six')\n",
      "(6, 'seven')\n",
      "(7, 'eight')\n",
      "(8, 'nine')\n",
      "(9, 'ten')\n"
     ]
    }
   ],
   "source": [
    "for i in enumerate(mytuple):\n",
    "    print(i)"
   ]
  },
  {
   "cell_type": "markdown",
   "id": "29b913d4-65e0-4a4e-82a9-56b87cc95a16",
   "metadata": {},
   "source": [
    "#Tuple membership"
   ]
  },
  {
   "cell_type": "code",
   "execution_count": 151,
   "id": "0386d2bd-1ecc-436a-b951-601acdeef055",
   "metadata": {},
   "outputs": [
    {
     "data": {
      "text/plain": [
       "True"
      ]
     },
     "execution_count": 151,
     "metadata": {},
     "output_type": "execute_result"
    }
   ],
   "source": [
    "'one' in mytuple"
   ]
  },
  {
   "cell_type": "code",
   "execution_count": 153,
   "id": "5064691c-d854-4394-ada2-65b2ce4f795b",
   "metadata": {},
   "outputs": [
    {
     "data": {
      "text/plain": [
       "False"
      ]
     },
     "execution_count": 153,
     "metadata": {},
     "output_type": "execute_result"
    }
   ],
   "source": [
    "'ONE' in mytuple"
   ]
  },
  {
   "cell_type": "code",
   "execution_count": 155,
   "id": "e01cf48d-1479-44e8-aa8e-e4df75ba7154",
   "metadata": {},
   "outputs": [],
   "source": [
    "Mytup=mytuple"
   ]
  },
  {
   "cell_type": "code",
   "execution_count": 157,
   "id": "c873e6d2-6dd6-46c8-9f31-19d3c857fa6e",
   "metadata": {},
   "outputs": [
    {
     "data": {
      "text/plain": [
       "('one', 'two', 'three', 'four', 'five', 'six', 'seven', 'eight', 'nine', 'ten')"
      ]
     },
     "execution_count": 157,
     "metadata": {},
     "output_type": "execute_result"
    }
   ],
   "source": [
    "Mytup"
   ]
  },
  {
   "cell_type": "code",
   "execution_count": 161,
   "id": "6424bffe-bc98-4e58-8ac9-013749e06f96",
   "metadata": {},
   "outputs": [
    {
     "name": "stdout",
     "output_type": "stream",
     "text": [
      "three is available in the tuple\n"
     ]
    }
   ],
   "source": [
    "if 'three' in mytuple:\n",
    "    print(\"three is available in the tuple\")\n",
    "else:\n",
    "    print(\"three is not available in the tuple\")\n",
    "    "
   ]
  },
  {
   "cell_type": "code",
   "execution_count": 163,
   "id": "07177ccc-f712-4cd4-b6aa-803b8d8e9e4a",
   "metadata": {},
   "outputs": [
    {
     "name": "stdout",
     "output_type": "stream",
     "text": [
      "eleve is not available in the tuple\n"
     ]
    }
   ],
   "source": [
    "if 'eleven' in mytuple:\n",
    "    print(\"eleven is available in the tuple\")\n",
    "else:\n",
    "    print(\"eleve is not available in the tuple\")"
   ]
  },
  {
   "cell_type": "markdown",
   "id": "d400a03c-a4d3-4243-92f8-61590b7cea4a",
   "metadata": {},
   "source": [
    "#Indexing"
   ]
  },
  {
   "cell_type": "code",
   "execution_count": 165,
   "id": "7e89e7f3-2f99-4a62-89de-822275105fce",
   "metadata": {},
   "outputs": [],
   "source": [
    "tup7=(4,6,1,3,5,9,7)\n"
   ]
  },
  {
   "cell_type": "code",
   "execution_count": 184,
   "id": "58e346f5-ff86-4c27-88ed-f228440fbdbf",
   "metadata": {},
   "outputs": [
    {
     "data": {
      "text/plain": [
       "[1, 3, 4, 5, 6, 7, 9]"
      ]
     },
     "execution_count": 184,
     "metadata": {},
     "output_type": "execute_result"
    }
   ],
   "source": [
    "sorted(tup7)"
   ]
  },
  {
   "cell_type": "code",
   "execution_count": 186,
   "id": "9c36a9cd-a881-4ada-992f-d0bc528022a2",
   "metadata": {},
   "outputs": [
    {
     "data": {
      "text/plain": [
       "(4, 6, 1, 3, 5, 9, 7)"
      ]
     },
     "execution_count": 186,
     "metadata": {},
     "output_type": "execute_result"
    }
   ],
   "source": [
    "tup7"
   ]
  },
  {
   "cell_type": "code",
   "execution_count": 193,
   "id": "63921714-3cc0-4835-bff9-aa9dca3ace92",
   "metadata": {},
   "outputs": [
    {
     "data": {
      "text/plain": [
       "[9, 7, 6, 5, 4, 3, 1]"
      ]
     },
     "execution_count": 193,
     "metadata": {},
     "output_type": "execute_result"
    }
   ],
   "source": [
    "sorted(tup7,reverse=True)"
   ]
  },
  {
   "cell_type": "code",
   "execution_count": 195,
   "id": "11265fc1-2111-46c9-9677-24b34b1c4645",
   "metadata": {},
   "outputs": [
    {
     "data": {
      "text/plain": [
       "(4, 6, 1, 3, 5, 9, 7)"
      ]
     },
     "execution_count": 195,
     "metadata": {},
     "output_type": "execute_result"
    }
   ],
   "source": [
    "tup7"
   ]
  },
  {
   "cell_type": "code",
   "execution_count": null,
   "id": "21ec3742-f9ac-4bea-b921-da3718a4e5a5",
   "metadata": {},
   "outputs": [],
   "source": []
  },
  {
   "cell_type": "code",
   "execution_count": null,
   "id": "545b9bef-81c4-443b-8808-6f1ebf9a0629",
   "metadata": {},
   "outputs": [],
   "source": []
  },
  {
   "cell_type": "code",
   "execution_count": null,
   "id": "80e7ab81-5989-4dfe-a9d1-9471b4a5dea1",
   "metadata": {},
   "outputs": [],
   "source": []
  },
  {
   "cell_type": "code",
   "execution_count": null,
   "id": "ead5765f-0b51-4fb9-8f2e-0926af718bdc",
   "metadata": {},
   "outputs": [],
   "source": []
  },
  {
   "cell_type": "code",
   "execution_count": null,
   "id": "b31987b3-dac8-4f08-a725-71b21471ee2f",
   "metadata": {},
   "outputs": [],
   "source": []
  },
  {
   "cell_type": "code",
   "execution_count": null,
   "id": "bcedf455-69c4-4f1d-80fb-bb3f06746723",
   "metadata": {},
   "outputs": [],
   "source": []
  },
  {
   "cell_type": "code",
   "execution_count": null,
   "id": "a97a14d3-1eb1-46e8-8716-1af54fe0abaa",
   "metadata": {},
   "outputs": [],
   "source": []
  },
  {
   "cell_type": "code",
   "execution_count": null,
   "id": "9884bfab-e1ef-4b4d-bb45-bd9da4942656",
   "metadata": {},
   "outputs": [],
   "source": []
  },
  {
   "cell_type": "code",
   "execution_count": null,
   "id": "f086c90a-7e1b-437c-8516-6b28c812b6fb",
   "metadata": {},
   "outputs": [],
   "source": []
  },
  {
   "cell_type": "code",
   "execution_count": null,
   "id": "392b0f70-88dc-4bdf-b2d7-69cbd9d5536b",
   "metadata": {},
   "outputs": [],
   "source": []
  },
  {
   "cell_type": "code",
   "execution_count": null,
   "id": "163a44d6-2ecc-47d9-bf74-a30efdc739df",
   "metadata": {},
   "outputs": [],
   "source": []
  },
  {
   "cell_type": "code",
   "execution_count": null,
   "id": "77e64ae9-a167-4a2a-be9c-d1127c7d5cae",
   "metadata": {},
   "outputs": [],
   "source": []
  },
  {
   "cell_type": "code",
   "execution_count": null,
   "id": "900b33ce-fd58-482b-9f26-0c5003d2db01",
   "metadata": {},
   "outputs": [],
   "source": []
  },
  {
   "cell_type": "code",
   "execution_count": null,
   "id": "424606f2-ee31-4ba0-b8e4-692c5b0d4d87",
   "metadata": {},
   "outputs": [],
   "source": []
  },
  {
   "cell_type": "code",
   "execution_count": null,
   "id": "9e8a82ce-a1e5-45be-9b06-45b41041ac35",
   "metadata": {},
   "outputs": [],
   "source": []
  }
 ],
 "metadata": {
  "kernelspec": {
   "display_name": "Python [conda env:base] *",
   "language": "python",
   "name": "conda-base-py"
  },
  "language_info": {
   "codemirror_mode": {
    "name": "ipython",
    "version": 3
   },
   "file_extension": ".py",
   "mimetype": "text/x-python",
   "name": "python",
   "nbconvert_exporter": "python",
   "pygments_lexer": "ipython3",
   "version": "3.12.7"
  }
 },
 "nbformat": 4,
 "nbformat_minor": 5
}
